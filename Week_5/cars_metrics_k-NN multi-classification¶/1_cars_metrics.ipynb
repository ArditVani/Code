{
 "cells": [
  {
   "cell_type": "markdown",
   "metadata": {},
   "source": [
    "# Assignment 1: k-Nearest Neighbors multi-classification"
   ]
  },
  {
   "cell_type": "markdown",
   "metadata": {},
   "source": [
    "In this assignment you'll have to predict the decisions made about cars. There are 4 potential decisions:\n",
    "\n",
    "- 'unacc': unacceptable\n",
    "- 'acc', : acceptable\n",
    "- 'good',: good\n",
    "- 'vgood': very good\n",
    "\n",
    "Because there are 4 decision options this is called a multi-class classification problem. Please be aware that these decision categories are ordinal. The \"lowest\" decision is unacceptable and the \"highest\" decision is very good. \n",
    "\n",
    "Using 6 cars' features you'll try to predict the decision that will be made. These features are stored in the first 6 columns of the dataset. The seventh column contains the decisions made about the cars."
   ]
  },
  {
   "cell_type": "markdown",
   "metadata": {},
   "source": [
    "## 1 import and pre-process dataset\n",
    "- Run the next cell to import libraries"
   ]
  },
  {
   "cell_type": "code",
   "execution_count": 1,
   "metadata": {},
   "outputs": [],
   "source": [
    "import pandas as pd\n",
    "import numpy as np\n",
    "from matplotlib import pyplot as plt\n",
    "import seaborn as sns\n",
    "%matplotlib inline\n",
    "from sklearn.neighbors import KNeighborsClassifier\n",
    "import warnings\n",
    "warnings.filterwarnings(\"ignore\")\n"
   ]
  },
  {
   "cell_type": "markdown",
   "metadata": {},
   "source": [
    "### 1A import data set\n",
    "- import the csv file cars.csv into a dataframe\n",
    "- inspect the dataframe to make sure the data is correctly imported. Hint: check the number of rows. "
   ]
  },
  {
   "cell_type": "code",
   "execution_count": 2,
   "metadata": {},
   "outputs": [
    {
     "name": "stdout",
     "output_type": "stream",
     "text": [
      "<class 'pandas.core.frame.DataFrame'>\n",
      "RangeIndex: 1728 entries, 0 to 1727\n",
      "Data columns (total 7 columns):\n",
      " #   Column  Non-Null Count  Dtype \n",
      "---  ------  --------------  ----- \n",
      " 0   0       1728 non-null   object\n",
      " 1   1       1728 non-null   object\n",
      " 2   2       1728 non-null   object\n",
      " 3   3       1728 non-null   object\n",
      " 4   4       1728 non-null   object\n",
      " 5   5       1728 non-null   object\n",
      " 6   6       1728 non-null   object\n",
      "dtypes: object(7)\n",
      "memory usage: 94.6+ KB\n"
     ]
    },
    {
     "data": {
      "text/plain": [
       "None"
      ]
     },
     "metadata": {},
     "output_type": "display_data"
    },
    {
     "data": {
      "text/html": [
       "<div>\n",
       "<style scoped>\n",
       "    .dataframe tbody tr th:only-of-type {\n",
       "        vertical-align: middle;\n",
       "    }\n",
       "\n",
       "    .dataframe tbody tr th {\n",
       "        vertical-align: top;\n",
       "    }\n",
       "\n",
       "    .dataframe thead th {\n",
       "        text-align: right;\n",
       "    }\n",
       "</style>\n",
       "<table border=\"1\" class=\"dataframe\">\n",
       "  <thead>\n",
       "    <tr style=\"text-align: right;\">\n",
       "      <th></th>\n",
       "      <th>0</th>\n",
       "      <th>1</th>\n",
       "      <th>2</th>\n",
       "      <th>3</th>\n",
       "      <th>4</th>\n",
       "      <th>5</th>\n",
       "      <th>6</th>\n",
       "    </tr>\n",
       "  </thead>\n",
       "  <tbody>\n",
       "    <tr>\n",
       "      <th>0</th>\n",
       "      <td>vhigh</td>\n",
       "      <td>vhigh</td>\n",
       "      <td>2</td>\n",
       "      <td>2</td>\n",
       "      <td>small</td>\n",
       "      <td>low</td>\n",
       "      <td>unacc</td>\n",
       "    </tr>\n",
       "    <tr>\n",
       "      <th>1</th>\n",
       "      <td>vhigh</td>\n",
       "      <td>vhigh</td>\n",
       "      <td>2</td>\n",
       "      <td>2</td>\n",
       "      <td>small</td>\n",
       "      <td>med</td>\n",
       "      <td>unacc</td>\n",
       "    </tr>\n",
       "    <tr>\n",
       "      <th>2</th>\n",
       "      <td>vhigh</td>\n",
       "      <td>vhigh</td>\n",
       "      <td>2</td>\n",
       "      <td>2</td>\n",
       "      <td>small</td>\n",
       "      <td>high</td>\n",
       "      <td>unacc</td>\n",
       "    </tr>\n",
       "    <tr>\n",
       "      <th>3</th>\n",
       "      <td>vhigh</td>\n",
       "      <td>vhigh</td>\n",
       "      <td>2</td>\n",
       "      <td>2</td>\n",
       "      <td>med</td>\n",
       "      <td>low</td>\n",
       "      <td>unacc</td>\n",
       "    </tr>\n",
       "    <tr>\n",
       "      <th>4</th>\n",
       "      <td>vhigh</td>\n",
       "      <td>vhigh</td>\n",
       "      <td>2</td>\n",
       "      <td>2</td>\n",
       "      <td>med</td>\n",
       "      <td>med</td>\n",
       "      <td>unacc</td>\n",
       "    </tr>\n",
       "  </tbody>\n",
       "</table>\n",
       "</div>"
      ],
      "text/plain": [
       "       0      1  2  3      4     5      6\n",
       "0  vhigh  vhigh  2  2  small   low  unacc\n",
       "1  vhigh  vhigh  2  2  small   med  unacc\n",
       "2  vhigh  vhigh  2  2  small  high  unacc\n",
       "3  vhigh  vhigh  2  2    med   low  unacc\n",
       "4  vhigh  vhigh  2  2    med   med  unacc"
      ]
     },
     "metadata": {},
     "output_type": "display_data"
    }
   ],
   "source": [
    "df = pd.read_csv('cars.csv', header = None )\n",
    "\n",
    "display(df.info(), df.head())\n"
   ]
  },
  {
   "cell_type": "markdown",
   "metadata": {},
   "source": [
    "### 1B change column names\n",
    "- Change the names of the columns:\n",
    "    - First column name: 'buy_price'\n",
    "    - Second column name: 'maint_cost'\n",
    "    - Third:'num_doors'\n",
    "    - Fourth: 'num_persons'\n",
    "    - Fifth: 'lug_boot'\n",
    "    - Sixth:'safety'\n",
    "    - Last: 'decision'\n",
    "- Check if the column names are correctly changed"
   ]
  },
  {
   "cell_type": "code",
   "execution_count": 3,
   "metadata": {},
   "outputs": [
    {
     "data": {
      "text/html": [
       "<div>\n",
       "<style scoped>\n",
       "    .dataframe tbody tr th:only-of-type {\n",
       "        vertical-align: middle;\n",
       "    }\n",
       "\n",
       "    .dataframe tbody tr th {\n",
       "        vertical-align: top;\n",
       "    }\n",
       "\n",
       "    .dataframe thead th {\n",
       "        text-align: right;\n",
       "    }\n",
       "</style>\n",
       "<table border=\"1\" class=\"dataframe\">\n",
       "  <thead>\n",
       "    <tr style=\"text-align: right;\">\n",
       "      <th></th>\n",
       "      <th>buy_price</th>\n",
       "      <th>maint_cost</th>\n",
       "      <th>num_doors</th>\n",
       "      <th>num_persons</th>\n",
       "      <th>lug_boot</th>\n",
       "      <th>safety</th>\n",
       "      <th>decision</th>\n",
       "    </tr>\n",
       "  </thead>\n",
       "  <tbody>\n",
       "    <tr>\n",
       "      <th>0</th>\n",
       "      <td>vhigh</td>\n",
       "      <td>vhigh</td>\n",
       "      <td>2</td>\n",
       "      <td>2</td>\n",
       "      <td>small</td>\n",
       "      <td>low</td>\n",
       "      <td>unacc</td>\n",
       "    </tr>\n",
       "    <tr>\n",
       "      <th>1</th>\n",
       "      <td>vhigh</td>\n",
       "      <td>vhigh</td>\n",
       "      <td>2</td>\n",
       "      <td>2</td>\n",
       "      <td>small</td>\n",
       "      <td>med</td>\n",
       "      <td>unacc</td>\n",
       "    </tr>\n",
       "    <tr>\n",
       "      <th>2</th>\n",
       "      <td>vhigh</td>\n",
       "      <td>vhigh</td>\n",
       "      <td>2</td>\n",
       "      <td>2</td>\n",
       "      <td>small</td>\n",
       "      <td>high</td>\n",
       "      <td>unacc</td>\n",
       "    </tr>\n",
       "    <tr>\n",
       "      <th>3</th>\n",
       "      <td>vhigh</td>\n",
       "      <td>vhigh</td>\n",
       "      <td>2</td>\n",
       "      <td>2</td>\n",
       "      <td>med</td>\n",
       "      <td>low</td>\n",
       "      <td>unacc</td>\n",
       "    </tr>\n",
       "    <tr>\n",
       "      <th>4</th>\n",
       "      <td>vhigh</td>\n",
       "      <td>vhigh</td>\n",
       "      <td>2</td>\n",
       "      <td>2</td>\n",
       "      <td>med</td>\n",
       "      <td>med</td>\n",
       "      <td>unacc</td>\n",
       "    </tr>\n",
       "  </tbody>\n",
       "</table>\n",
       "</div>"
      ],
      "text/plain": [
       "  buy_price maint_cost num_doors num_persons lug_boot safety decision\n",
       "0     vhigh      vhigh         2           2    small    low    unacc\n",
       "1     vhigh      vhigh         2           2    small    med    unacc\n",
       "2     vhigh      vhigh         2           2    small   high    unacc\n",
       "3     vhigh      vhigh         2           2      med    low    unacc\n",
       "4     vhigh      vhigh         2           2      med    med    unacc"
      ]
     },
     "execution_count": 3,
     "metadata": {},
     "output_type": "execute_result"
    }
   ],
   "source": [
    "df.columns = ['buy_price','maint_cost','num_doors','num_persons','lug_boot','safety','decision']\n",
    "\n",
    "col_names = list(df.columns)\n",
    "\n",
    "df.head()\n"
   ]
  },
  {
   "cell_type": "markdown",
   "metadata": {},
   "source": [
    "### 1C Determine unique values in each columns\n",
    "- Make 7 lists that show the unique values of each column.\n",
    "- Hint: the set() function shows unique values."
   ]
  },
  {
   "cell_type": "code",
   "execution_count": 4,
   "metadata": {
    "scrolled": false
   },
   "outputs": [
    {
     "data": {
      "text/plain": [
       "'bp'"
      ]
     },
     "metadata": {},
     "output_type": "display_data"
    },
    {
     "data": {
      "text/plain": [
       "['vhigh', 'low', 'high', 'med']"
      ]
     },
     "metadata": {},
     "output_type": "display_data"
    },
    {
     "data": {
      "text/plain": [
       "'mc'"
      ]
     },
     "metadata": {},
     "output_type": "display_data"
    },
    {
     "data": {
      "text/plain": [
       "['vhigh', 'low', 'high', 'med']"
      ]
     },
     "metadata": {},
     "output_type": "display_data"
    },
    {
     "data": {
      "text/plain": [
       "'nd'"
      ]
     },
     "metadata": {},
     "output_type": "display_data"
    },
    {
     "data": {
      "text/plain": [
       "['5more', '2', '4', '3']"
      ]
     },
     "metadata": {},
     "output_type": "display_data"
    },
    {
     "data": {
      "text/plain": [
       "'npers'"
      ]
     },
     "metadata": {},
     "output_type": "display_data"
    },
    {
     "data": {
      "text/plain": [
       "['more', '2', '4']"
      ]
     },
     "metadata": {},
     "output_type": "display_data"
    },
    {
     "data": {
      "text/plain": [
       "'lb'"
      ]
     },
     "metadata": {},
     "output_type": "display_data"
    },
    {
     "data": {
      "text/plain": [
       "['big', 'small', 'med']"
      ]
     },
     "metadata": {},
     "output_type": "display_data"
    },
    {
     "data": {
      "text/plain": [
       "'sy'"
      ]
     },
     "metadata": {},
     "output_type": "display_data"
    },
    {
     "data": {
      "text/plain": [
       "['low', 'high', 'med']"
      ]
     },
     "metadata": {},
     "output_type": "display_data"
    },
    {
     "data": {
      "text/plain": [
       "'dn'"
      ]
     },
     "metadata": {},
     "output_type": "display_data"
    },
    {
     "data": {
      "text/plain": [
       "['unacc', 'vgood', 'good', 'acc']"
      ]
     },
     "metadata": {},
     "output_type": "display_data"
    }
   ],
   "source": [
    "bp = list(set(df['buy_price']))\n",
    "\n",
    "mc = list(set(df['maint_cost']))\n",
    "\n",
    "nd = list(set(df['num_doors']))\n",
    "\n",
    "npers = list(set(df['num_persons']))\n",
    "\n",
    "lb = list(set(df['lug_boot']))\n",
    "\n",
    "sy = list(set(df['safety']))\n",
    "\n",
    "dn = list(set(df['decision']))\n",
    "\n",
    "display('bp', bp, 'mc', mc, 'nd' , nd , 'npers', npers, 'lb', lb, 'sy', sy, 'dn', dn)"
   ]
  },
  {
   "cell_type": "markdown",
   "metadata": {},
   "source": [
    "### 1D convert to numeric values\n",
    "- Copy the dataframe into a new dataframe\n",
    "- Change the values in each column into numeric values\n",
    "- All values are values on an ordinal scale. Because of this the values have to be in the right order. Example: \n",
    "\n",
    "    - 'low', 'med', 'high', 'vhigh' should be numbered from low to high. For example 'low' becomes number 1, 'med' becomes number 2, 'high' becomes number 3 etc. A similar way of numbering has to be applied to all columns."
   ]
  },
  {
   "cell_type": "code",
   "execution_count": 5,
   "metadata": {},
   "outputs": [],
   "source": [
    "cars = df.copy()"
   ]
  },
  {
   "cell_type": "code",
   "execution_count": 6,
   "metadata": {},
   "outputs": [],
   "source": [
    "cars.buy_price.replace(('low', 'med', 'high', 'vhigh'),(1,2,3,4), inplace=True)\n",
    "\n",
    "cars.maint_cost.replace(('low', 'med', 'high', 'vhigh'),(1,2,3,4), inplace=True)\n",
    "\n",
    "cars.num_doors.replace(('2','3','4','5more'),(1,2,3,4), inplace=True)\n",
    "\n",
    "cars.num_persons.replace(('2','4','more'),(1,2,3), inplace=True)\n",
    "\n",
    "cars.lug_boot.replace(('small','med','big'),(1,2,3), inplace=True)\n",
    "\n",
    "cars.safety.replace(('low','med','high'),(1,2,3), inplace=True)\n",
    "\n",
    "cars.decision.replace(('unacc','acc','good','vgood'),(1,2,3,4), inplace=True)\n",
    "\n",
    "\n",
    "#display(cars.head())"
   ]
  },
  {
   "cell_type": "markdown",
   "metadata": {},
   "source": [
    "### 1E Check the dataframe\n",
    "- Check if there are any missing values or outliers.\n",
    "- Make a visualation that shows how the values in each column are distributed.\n",
    "- What do you notice about these distributions?\n",
    "- Do you think this is a real dataset or a synthetic dataset? Why?"
   ]
  },
  {
   "cell_type": "code",
   "execution_count": 23,
   "metadata": {
    "scrolled": false
   },
   "outputs": [
    {
     "data": {
      "text/html": [
       "<div>\n",
       "<style scoped>\n",
       "    .dataframe tbody tr th:only-of-type {\n",
       "        vertical-align: middle;\n",
       "    }\n",
       "\n",
       "    .dataframe tbody tr th {\n",
       "        vertical-align: top;\n",
       "    }\n",
       "\n",
       "    .dataframe thead th {\n",
       "        text-align: right;\n",
       "    }\n",
       "</style>\n",
       "<table border=\"1\" class=\"dataframe\">\n",
       "  <thead>\n",
       "    <tr style=\"text-align: right;\">\n",
       "      <th></th>\n",
       "      <th>buy_price</th>\n",
       "      <th>maint_cost</th>\n",
       "      <th>num_doors</th>\n",
       "      <th>num_persons</th>\n",
       "      <th>lug_boot</th>\n",
       "      <th>safety</th>\n",
       "      <th>decision</th>\n",
       "    </tr>\n",
       "  </thead>\n",
       "  <tbody>\n",
       "    <tr>\n",
       "      <th>count</th>\n",
       "      <td>1728.000000</td>\n",
       "      <td>1728.000000</td>\n",
       "      <td>1728.000000</td>\n",
       "      <td>1728.000000</td>\n",
       "      <td>1728.000000</td>\n",
       "      <td>1728.000000</td>\n",
       "      <td>1728.000000</td>\n",
       "    </tr>\n",
       "    <tr>\n",
       "      <th>mean</th>\n",
       "      <td>2.500000</td>\n",
       "      <td>2.500000</td>\n",
       "      <td>2.500000</td>\n",
       "      <td>2.000000</td>\n",
       "      <td>2.000000</td>\n",
       "      <td>2.000000</td>\n",
       "      <td>1.414931</td>\n",
       "    </tr>\n",
       "    <tr>\n",
       "      <th>std</th>\n",
       "      <td>1.118358</td>\n",
       "      <td>1.118358</td>\n",
       "      <td>1.118358</td>\n",
       "      <td>0.816733</td>\n",
       "      <td>0.816733</td>\n",
       "      <td>0.816733</td>\n",
       "      <td>0.740700</td>\n",
       "    </tr>\n",
       "    <tr>\n",
       "      <th>min</th>\n",
       "      <td>1.000000</td>\n",
       "      <td>1.000000</td>\n",
       "      <td>1.000000</td>\n",
       "      <td>1.000000</td>\n",
       "      <td>1.000000</td>\n",
       "      <td>1.000000</td>\n",
       "      <td>1.000000</td>\n",
       "    </tr>\n",
       "    <tr>\n",
       "      <th>25%</th>\n",
       "      <td>1.750000</td>\n",
       "      <td>1.750000</td>\n",
       "      <td>1.750000</td>\n",
       "      <td>1.000000</td>\n",
       "      <td>1.000000</td>\n",
       "      <td>1.000000</td>\n",
       "      <td>1.000000</td>\n",
       "    </tr>\n",
       "    <tr>\n",
       "      <th>50%</th>\n",
       "      <td>2.500000</td>\n",
       "      <td>2.500000</td>\n",
       "      <td>2.500000</td>\n",
       "      <td>2.000000</td>\n",
       "      <td>2.000000</td>\n",
       "      <td>2.000000</td>\n",
       "      <td>1.000000</td>\n",
       "    </tr>\n",
       "    <tr>\n",
       "      <th>75%</th>\n",
       "      <td>3.250000</td>\n",
       "      <td>3.250000</td>\n",
       "      <td>3.250000</td>\n",
       "      <td>3.000000</td>\n",
       "      <td>3.000000</td>\n",
       "      <td>3.000000</td>\n",
       "      <td>2.000000</td>\n",
       "    </tr>\n",
       "    <tr>\n",
       "      <th>max</th>\n",
       "      <td>4.000000</td>\n",
       "      <td>4.000000</td>\n",
       "      <td>4.000000</td>\n",
       "      <td>3.000000</td>\n",
       "      <td>3.000000</td>\n",
       "      <td>3.000000</td>\n",
       "      <td>4.000000</td>\n",
       "    </tr>\n",
       "  </tbody>\n",
       "</table>\n",
       "</div>"
      ],
      "text/plain": [
       "         buy_price   maint_cost    num_doors  num_persons     lug_boot  \\\n",
       "count  1728.000000  1728.000000  1728.000000  1728.000000  1728.000000   \n",
       "mean      2.500000     2.500000     2.500000     2.000000     2.000000   \n",
       "std       1.118358     1.118358     1.118358     0.816733     0.816733   \n",
       "min       1.000000     1.000000     1.000000     1.000000     1.000000   \n",
       "25%       1.750000     1.750000     1.750000     1.000000     1.000000   \n",
       "50%       2.500000     2.500000     2.500000     2.000000     2.000000   \n",
       "75%       3.250000     3.250000     3.250000     3.000000     3.000000   \n",
       "max       4.000000     4.000000     4.000000     3.000000     3.000000   \n",
       "\n",
       "            safety     decision  \n",
       "count  1728.000000  1728.000000  \n",
       "mean      2.000000     1.414931  \n",
       "std       0.816733     0.740700  \n",
       "min       1.000000     1.000000  \n",
       "25%       1.000000     1.000000  \n",
       "50%       2.000000     1.000000  \n",
       "75%       3.000000     2.000000  \n",
       "max       3.000000     4.000000  "
      ]
     },
     "metadata": {},
     "output_type": "display_data"
    },
    {
     "data": {
      "text/plain": [
       "buy_price      0\n",
       "maint_cost     0\n",
       "num_doors      0\n",
       "num_persons    0\n",
       "lug_boot       0\n",
       "safety         0\n",
       "decision       0\n",
       "dtype: int64"
      ]
     },
     "metadata": {},
     "output_type": "display_data"
    },
    {
     "data": {
      "image/png": "[encoded data removed]",
      "text/plain": [
       "<Figure size 640x480 with 9 Axes>"
      ]
     },
     "metadata": {},
     "output_type": "display_data"
    }
   ],
   "source": [
    "display(cars.describe(), cars.isnull().sum())\n",
    "\n",
    "cars.hist()\n",
    "plt.show()"
   ]
  },
  {
   "cell_type": "code",
   "execution_count": 22,
   "metadata": {},
   "outputs": [
    {
     "data": {
      "image/png": "[encoded data removed]",
      "text/plain": [
       "<Figure size 640x480 with 1 Axes>"
      ]
     },
     "metadata": {},
     "output_type": "display_data"
    }
   ],
   "source": [
    "sns.boxplot(data=cars)\n",
    "plt.xticks(rotation=45)\n",
    "plt.show()"
   ]
  },
  {
   "cell_type": "markdown",
   "metadata": {},
   "source": [
    "## 2 Apply k-nearest neighbors"
   ]
  },
  {
   "cell_type": "markdown",
   "metadata": {},
   "source": [
    "### 2A Train and test set\n",
    "- Your goal is to predict the decision column\n",
    "- Split the data into a train set and a test set\n",
    "- Explain your choice for the test set size"
   ]
  },
  {
   "cell_type": "code",
   "execution_count": 9,
   "metadata": {},
   "outputs": [],
   "source": [
    "\n",
    "from sklearn.model_selection import train_test_split\n",
    "X = cars.drop('decision', axis = 1) #variable to predict \"INDIPENDENT VARIABLE\"\n",
    "y = cars['decision'] # the variable we want to predict \"DIPENDENT VARIABLE\"\n",
    "\n",
    "X_train, X_test, y_train, y_test = train_test_split(X, y, random_state = 0)\n",
    "\n"
   ]
  },
  {
   "cell_type": "markdown",
   "metadata": {},
   "source": [
    "### 2B Fit and predict\n",
    "- Apply the k-nearest neighbor classifier of scikit learn to fit your model.\n",
    "- Predict the decisions of your test set and determine the accuracy of the model\n",
    "- Change the number of neighbors the model considers when making the predictions. What happens to the accuracy?\n",
    "- Find the optimal number of k (number of neighbors)\n"
   ]
  },
  {
   "cell_type": "code",
   "execution_count": 10,
   "metadata": {},
   "outputs": [
    {
     "name": "stdout",
     "output_type": "stream",
     "text": [
      "Test set accuracy: 0.93\n"
     ]
    }
   ],
   "source": [
    "from sklearn.metrics import accuracy_score\n",
    "from sklearn.neighbors import KNeighborsClassifier\n",
    "clf = KNeighborsClassifier(n_neighbors = 7)\n",
    "clf.fit(X_train, y_train)\n",
    "predictions = clf.predict(X_test)\n",
    "score = accuracy_score(y_test, predictions)\n",
    "print(\"Test set accuracy: {:.2f}\".format(score))\n"
   ]
  },
  {
   "cell_type": "markdown",
   "metadata": {},
   "source": [
    "### 2C Grid search and cross validation"
   ]
  },
  {
   "cell_type": "markdown",
   "metadata": {},
   "source": [
    "#### 2C.1 parameter grid\n",
    "- Create a parameter grid for the number of nearest neighbors (n_neighbors). It should include the numbers 1 till 10."
   ]
  },
  {
   "cell_type": "code",
   "execution_count": 11,
   "metadata": {},
   "outputs": [
    {
     "name": "stdout",
     "output_type": "stream",
     "text": [
      "Parameter grid:\n",
      "{'n_neighbors': [1, 2, 3, 4, 5, 6, 7, 8, 9, 10]}\n"
     ]
    }
   ],
   "source": [
    "param_grid = {'n_neighbors': [1,2,3,4,5,6,7,8,9,10]}\n",
    "print(\"Parameter grid:\\n{}\".format(param_grid))"
   ]
  },
  {
   "cell_type": "markdown",
   "metadata": {},
   "source": [
    "#### 2C.2 Apply grid search\n",
    "- Import the grid search cv module of sklearn\n",
    "- Create a grid search object that uses your parameter grid and applies 5-fold cross validation.\n",
    "- Fit the grid search object"
   ]
  },
  {
   "cell_type": "code",
   "execution_count": 12,
   "metadata": {},
   "outputs": [
    {
     "data": {
      "text/plain": [
       "GridSearchCV(cv=5, estimator=KNeighborsClassifier(),\n",
       "             param_grid={'n_neighbors': [1, 2, 3, 4, 5, 6, 7, 8, 9, 10]},\n",
       "             return_train_score=True)"
      ]
     },
     "execution_count": 12,
     "metadata": {},
     "output_type": "execute_result"
    }
   ],
   "source": [
    "from sklearn.model_selection import GridSearchCV\n",
    "from sklearn.svm import SVC\n",
    "grid_search = GridSearchCV(KNeighborsClassifier(), param_grid, cv=5,\n",
    "                          return_train_score=True)\n",
    "grid_search.fit(X_train, y_train)"
   ]
  },
  {
   "cell_type": "markdown",
   "metadata": {},
   "source": [
    "#### 2C.3 Best parameter setting and best score\n",
    "- Show the best score and the best parameter setting for the number of neighbors.\n",
    "- Is this result the same as in 2B? Why or why not?"
   ]
  },
  {
   "cell_type": "code",
   "execution_count": 13,
   "metadata": {},
   "outputs": [
    {
     "name": "stdout",
     "output_type": "stream",
     "text": [
      "Best parameters: {'n_neighbors': 5}\n",
      "Best cross-validation score: 0.93\n"
     ]
    }
   ],
   "source": [
    "print(\"Best parameters: {}\".format(grid_search.best_params_))\n",
    "print(\"Best cross-validation score: {:.2f}\".format(grid_search.best_score_))"
   ]
  },
  {
   "cell_type": "markdown",
   "metadata": {},
   "source": [
    "#### 2C.4 Dataframe and visualization\n",
    "- Create a dataframe that shows the results of the grid search\n",
    "- Visualize the scores of each number of neighbors (1 till 10)"
   ]
  },
  {
   "cell_type": "code",
   "execution_count": 14,
   "metadata": {},
   "outputs": [
    {
     "data": {
      "text/html": [
       "<div>\n",
       "<style scoped>\n",
       "    .dataframe tbody tr th:only-of-type {\n",
       "        vertical-align: middle;\n",
       "    }\n",
       "\n",
       "    .dataframe tbody tr th {\n",
       "        vertical-align: top;\n",
       "    }\n",
       "\n",
       "    .dataframe thead th {\n",
       "        text-align: right;\n",
       "    }\n",
       "</style>\n",
       "<table border=\"1\" class=\"dataframe\">\n",
       "  <thead>\n",
       "    <tr style=\"text-align: right;\">\n",
       "      <th></th>\n",
       "      <th>mean_fit_time</th>\n",
       "      <th>std_fit_time</th>\n",
       "      <th>mean_score_time</th>\n",
       "      <th>std_score_time</th>\n",
       "      <th>param_n_neighbors</th>\n",
       "      <th>params</th>\n",
       "      <th>split0_test_score</th>\n",
       "      <th>split1_test_score</th>\n",
       "      <th>split2_test_score</th>\n",
       "      <th>split3_test_score</th>\n",
       "      <th>...</th>\n",
       "      <th>mean_test_score</th>\n",
       "      <th>std_test_score</th>\n",
       "      <th>rank_test_score</th>\n",
       "      <th>split0_train_score</th>\n",
       "      <th>split1_train_score</th>\n",
       "      <th>split2_train_score</th>\n",
       "      <th>split3_train_score</th>\n",
       "      <th>split4_train_score</th>\n",
       "      <th>mean_train_score</th>\n",
       "      <th>std_train_score</th>\n",
       "    </tr>\n",
       "  </thead>\n",
       "  <tbody>\n",
       "    <tr>\n",
       "      <th>0</th>\n",
       "      <td>0.003835</td>\n",
       "      <td>0.002956</td>\n",
       "      <td>0.012967</td>\n",
       "      <td>0.003574</td>\n",
       "      <td>1</td>\n",
       "      <td>{'n_neighbors': 1}</td>\n",
       "      <td>0.796154</td>\n",
       "      <td>0.810811</td>\n",
       "      <td>0.837838</td>\n",
       "      <td>0.822394</td>\n",
       "      <td>...</td>\n",
       "      <td>0.819462</td>\n",
       "      <td>0.014683</td>\n",
       "      <td>10</td>\n",
       "      <td>1.000000</td>\n",
       "      <td>1.000000</td>\n",
       "      <td>1.000000</td>\n",
       "      <td>1.000000</td>\n",
       "      <td>1.000000</td>\n",
       "      <td>1.000000</td>\n",
       "      <td>0.000000</td>\n",
       "    </tr>\n",
       "    <tr>\n",
       "      <th>1</th>\n",
       "      <td>0.002250</td>\n",
       "      <td>0.000048</td>\n",
       "      <td>0.011049</td>\n",
       "      <td>0.000326</td>\n",
       "      <td>2</td>\n",
       "      <td>{'n_neighbors': 2}</td>\n",
       "      <td>0.850000</td>\n",
       "      <td>0.818533</td>\n",
       "      <td>0.872587</td>\n",
       "      <td>0.853282</td>\n",
       "      <td>...</td>\n",
       "      <td>0.850309</td>\n",
       "      <td>0.017673</td>\n",
       "      <td>9</td>\n",
       "      <td>0.913127</td>\n",
       "      <td>0.924783</td>\n",
       "      <td>0.926712</td>\n",
       "      <td>0.933462</td>\n",
       "      <td>0.922854</td>\n",
       "      <td>0.924188</td>\n",
       "      <td>0.006585</td>\n",
       "    </tr>\n",
       "    <tr>\n",
       "      <th>2</th>\n",
       "      <td>0.002811</td>\n",
       "      <td>0.000703</td>\n",
       "      <td>0.011490</td>\n",
       "      <td>0.000622</td>\n",
       "      <td>3</td>\n",
       "      <td>{'n_neighbors': 3}</td>\n",
       "      <td>0.888462</td>\n",
       "      <td>0.899614</td>\n",
       "      <td>0.918919</td>\n",
       "      <td>0.903475</td>\n",
       "      <td>...</td>\n",
       "      <td>0.900472</td>\n",
       "      <td>0.010658</td>\n",
       "      <td>8</td>\n",
       "      <td>0.949807</td>\n",
       "      <td>0.959499</td>\n",
       "      <td>0.955641</td>\n",
       "      <td>0.951784</td>\n",
       "      <td>0.945034</td>\n",
       "      <td>0.952353</td>\n",
       "      <td>0.004945</td>\n",
       "    </tr>\n",
       "    <tr>\n",
       "      <th>3</th>\n",
       "      <td>0.007567</td>\n",
       "      <td>0.005989</td>\n",
       "      <td>0.028398</td>\n",
       "      <td>0.015205</td>\n",
       "      <td>4</td>\n",
       "      <td>{'n_neighbors': 4}</td>\n",
       "      <td>0.903846</td>\n",
       "      <td>0.895753</td>\n",
       "      <td>0.926641</td>\n",
       "      <td>0.934363</td>\n",
       "      <td>...</td>\n",
       "      <td>0.914360</td>\n",
       "      <td>0.014267</td>\n",
       "      <td>6</td>\n",
       "      <td>0.948842</td>\n",
       "      <td>0.949855</td>\n",
       "      <td>0.940212</td>\n",
       "      <td>0.945998</td>\n",
       "      <td>0.956606</td>\n",
       "      <td>0.948303</td>\n",
       "      <td>0.005337</td>\n",
       "    </tr>\n",
       "    <tr>\n",
       "      <th>4</th>\n",
       "      <td>0.005898</td>\n",
       "      <td>0.002045</td>\n",
       "      <td>0.030188</td>\n",
       "      <td>0.012198</td>\n",
       "      <td>5</td>\n",
       "      <td>{'n_neighbors': 5}</td>\n",
       "      <td>0.915385</td>\n",
       "      <td>0.903475</td>\n",
       "      <td>0.938224</td>\n",
       "      <td>0.945946</td>\n",
       "      <td>...</td>\n",
       "      <td>0.927478</td>\n",
       "      <td>0.015661</td>\n",
       "      <td>1</td>\n",
       "      <td>0.972973</td>\n",
       "      <td>0.961427</td>\n",
       "      <td>0.970106</td>\n",
       "      <td>0.965284</td>\n",
       "      <td>0.974928</td>\n",
       "      <td>0.968944</td>\n",
       "      <td>0.004966</td>\n",
       "    </tr>\n",
       "    <tr>\n",
       "      <th>5</th>\n",
       "      <td>0.002596</td>\n",
       "      <td>0.000269</td>\n",
       "      <td>0.014646</td>\n",
       "      <td>0.003584</td>\n",
       "      <td>6</td>\n",
       "      <td>{'n_neighbors': 6}</td>\n",
       "      <td>0.911538</td>\n",
       "      <td>0.915058</td>\n",
       "      <td>0.922780</td>\n",
       "      <td>0.930502</td>\n",
       "      <td>...</td>\n",
       "      <td>0.922848</td>\n",
       "      <td>0.008715</td>\n",
       "      <td>3</td>\n",
       "      <td>0.958494</td>\n",
       "      <td>0.963356</td>\n",
       "      <td>0.965284</td>\n",
       "      <td>0.949855</td>\n",
       "      <td>0.966249</td>\n",
       "      <td>0.960648</td>\n",
       "      <td>0.006022</td>\n",
       "    </tr>\n",
       "    <tr>\n",
       "      <th>6</th>\n",
       "      <td>0.003070</td>\n",
       "      <td>0.000866</td>\n",
       "      <td>0.017843</td>\n",
       "      <td>0.005695</td>\n",
       "      <td>7</td>\n",
       "      <td>{'n_neighbors': 7}</td>\n",
       "      <td>0.923077</td>\n",
       "      <td>0.907336</td>\n",
       "      <td>0.926641</td>\n",
       "      <td>0.942085</td>\n",
       "      <td>...</td>\n",
       "      <td>0.923612</td>\n",
       "      <td>0.011293</td>\n",
       "      <td>2</td>\n",
       "      <td>0.961390</td>\n",
       "      <td>0.965284</td>\n",
       "      <td>0.971070</td>\n",
       "      <td>0.963356</td>\n",
       "      <td>0.967213</td>\n",
       "      <td>0.965663</td>\n",
       "      <td>0.003328</td>\n",
       "    </tr>\n",
       "    <tr>\n",
       "      <th>7</th>\n",
       "      <td>0.002302</td>\n",
       "      <td>0.000064</td>\n",
       "      <td>0.012297</td>\n",
       "      <td>0.000497</td>\n",
       "      <td>8</td>\n",
       "      <td>{'n_neighbors': 8}</td>\n",
       "      <td>0.923077</td>\n",
       "      <td>0.891892</td>\n",
       "      <td>0.918919</td>\n",
       "      <td>0.930502</td>\n",
       "      <td>...</td>\n",
       "      <td>0.915890</td>\n",
       "      <td>0.013046</td>\n",
       "      <td>4</td>\n",
       "      <td>0.951737</td>\n",
       "      <td>0.954677</td>\n",
       "      <td>0.955641</td>\n",
       "      <td>0.945998</td>\n",
       "      <td>0.961427</td>\n",
       "      <td>0.953896</td>\n",
       "      <td>0.005048</td>\n",
       "    </tr>\n",
       "    <tr>\n",
       "      <th>8</th>\n",
       "      <td>0.003887</td>\n",
       "      <td>0.001901</td>\n",
       "      <td>0.021530</td>\n",
       "      <td>0.011407</td>\n",
       "      <td>9</td>\n",
       "      <td>{'n_neighbors': 9}</td>\n",
       "      <td>0.930769</td>\n",
       "      <td>0.884170</td>\n",
       "      <td>0.915058</td>\n",
       "      <td>0.934363</td>\n",
       "      <td>...</td>\n",
       "      <td>0.915111</td>\n",
       "      <td>0.017824</td>\n",
       "      <td>5</td>\n",
       "      <td>0.948842</td>\n",
       "      <td>0.963356</td>\n",
       "      <td>0.951784</td>\n",
       "      <td>0.937319</td>\n",
       "      <td>0.955641</td>\n",
       "      <td>0.951388</td>\n",
       "      <td>0.008554</td>\n",
       "    </tr>\n",
       "    <tr>\n",
       "      <th>9</th>\n",
       "      <td>0.002280</td>\n",
       "      <td>0.000070</td>\n",
       "      <td>0.012091</td>\n",
       "      <td>0.000118</td>\n",
       "      <td>10</td>\n",
       "      <td>{'n_neighbors': 10}</td>\n",
       "      <td>0.915385</td>\n",
       "      <td>0.888031</td>\n",
       "      <td>0.907336</td>\n",
       "      <td>0.926641</td>\n",
       "      <td>...</td>\n",
       "      <td>0.907401</td>\n",
       "      <td>0.013189</td>\n",
       "      <td>7</td>\n",
       "      <td>0.943050</td>\n",
       "      <td>0.946962</td>\n",
       "      <td>0.943105</td>\n",
       "      <td>0.933462</td>\n",
       "      <td>0.957570</td>\n",
       "      <td>0.944830</td>\n",
       "      <td>0.007775</td>\n",
       "    </tr>\n",
       "  </tbody>\n",
       "</table>\n",
       "<p>10 rows × 21 columns</p>\n",
       "</div>"
      ],
      "text/plain": [
       "   mean_fit_time  std_fit_time  mean_score_time  std_score_time  \\\n",
       "0       0.003835      0.002956         0.012967        0.003574   \n",
       "1       0.002250      0.000048         0.011049        0.000326   \n",
       "2       0.002811      0.000703         0.011490        0.000622   \n",
       "3       0.007567      0.005989         0.028398        0.015205   \n",
       "4       0.005898      0.002045         0.030188        0.012198   \n",
       "5       0.002596      0.000269         0.014646        0.003584   \n",
       "6       0.003070      0.000866         0.017843        0.005695   \n",
       "7       0.002302      0.000064         0.012297        0.000497   \n",
       "8       0.003887      0.001901         0.021530        0.011407   \n",
       "9       0.002280      0.000070         0.012091        0.000118   \n",
       "\n",
       "  param_n_neighbors               params  split0_test_score  \\\n",
       "0                 1   {'n_neighbors': 1}           0.796154   \n",
       "1                 2   {'n_neighbors': 2}           0.850000   \n",
       "2                 3   {'n_neighbors': 3}           0.888462   \n",
       "3                 4   {'n_neighbors': 4}           0.903846   \n",
       "4                 5   {'n_neighbors': 5}           0.915385   \n",
       "5                 6   {'n_neighbors': 6}           0.911538   \n",
       "6                 7   {'n_neighbors': 7}           0.923077   \n",
       "7                 8   {'n_neighbors': 8}           0.923077   \n",
       "8                 9   {'n_neighbors': 9}           0.930769   \n",
       "9                10  {'n_neighbors': 10}           0.915385   \n",
       "\n",
       "   split1_test_score  split2_test_score  split3_test_score  ...  \\\n",
       "0           0.810811           0.837838           0.822394  ...   \n",
       "1           0.818533           0.872587           0.853282  ...   \n",
       "2           0.899614           0.918919           0.903475  ...   \n",
       "3           0.895753           0.926641           0.934363  ...   \n",
       "4           0.903475           0.938224           0.945946  ...   \n",
       "5           0.915058           0.922780           0.930502  ...   \n",
       "6           0.907336           0.926641           0.942085  ...   \n",
       "7           0.891892           0.918919           0.930502  ...   \n",
       "8           0.884170           0.915058           0.934363  ...   \n",
       "9           0.888031           0.907336           0.926641  ...   \n",
       "\n",
       "   mean_test_score  std_test_score  rank_test_score  split0_train_score  \\\n",
       "0         0.819462        0.014683               10            1.000000   \n",
       "1         0.850309        0.017673                9            0.913127   \n",
       "2         0.900472        0.010658                8            0.949807   \n",
       "3         0.914360        0.014267                6            0.948842   \n",
       "4         0.927478        0.015661                1            0.972973   \n",
       "5         0.922848        0.008715                3            0.958494   \n",
       "6         0.923612        0.011293                2            0.961390   \n",
       "7         0.915890        0.013046                4            0.951737   \n",
       "8         0.915111        0.017824                5            0.948842   \n",
       "9         0.907401        0.013189                7            0.943050   \n",
       "\n",
       "   split1_train_score  split2_train_score  split3_train_score  \\\n",
       "0            1.000000            1.000000            1.000000   \n",
       "1            0.924783            0.926712            0.933462   \n",
       "2            0.959499            0.955641            0.951784   \n",
       "3            0.949855            0.940212            0.945998   \n",
       "4            0.961427            0.970106            0.965284   \n",
       "5            0.963356            0.965284            0.949855   \n",
       "6            0.965284            0.971070            0.963356   \n",
       "7            0.954677            0.955641            0.945998   \n",
       "8            0.963356            0.951784            0.937319   \n",
       "9            0.946962            0.943105            0.933462   \n",
       "\n",
       "   split4_train_score  mean_train_score  std_train_score  \n",
       "0            1.000000          1.000000         0.000000  \n",
       "1            0.922854          0.924188         0.006585  \n",
       "2            0.945034          0.952353         0.004945  \n",
       "3            0.956606          0.948303         0.005337  \n",
       "4            0.974928          0.968944         0.004966  \n",
       "5            0.966249          0.960648         0.006022  \n",
       "6            0.967213          0.965663         0.003328  \n",
       "7            0.961427          0.953896         0.005048  \n",
       "8            0.955641          0.951388         0.008554  \n",
       "9            0.957570          0.944830         0.007775  \n",
       "\n",
       "[10 rows x 21 columns]"
      ]
     },
     "execution_count": 14,
     "metadata": {},
     "output_type": "execute_result"
    }
   ],
   "source": [
    "import pandas as pd\n",
    "# convert to Dataframe\n",
    "results = pd.DataFrame(grid_search.cv_results_)\n",
    "results"
   ]
  },
  {
   "cell_type": "code",
   "execution_count": 21,
   "metadata": {},
   "outputs": [
    {
     "data": {
      "image/png": "[encoded data removed]",
      "text/plain": [
       "<Figure size 640x480 with 1 Axes>"
      ]
     },
     "metadata": {},
     "output_type": "display_data"
    }
   ],
   "source": [
    "df_scores = results[['param_n_neighbors','mean_test_score']].set_index('param_n_neighbors')\n",
    "df_scores.plot(kind = 'barh')\n",
    "plt.legend(bbox_to_anchor=(1.01, 1.02))\n",
    "plt.show()"
   ]
  },
  {
   "cell_type": "markdown",
   "metadata": {},
   "source": [
    "## 3 Classification metrics"
   ]
  },
  {
   "cell_type": "markdown",
   "metadata": {},
   "source": [
    "### 3A Confusion matrix\n",
    "- Do some research to find out what a confusion matrix is. What is it and why is it important for classification?\n",
    "- Import the confusion matrix module from sklearn metrics\n",
    "- Create a confusion matrix that compares your predicted decisions with the actual decisions"
   ]
  },
  {
   "cell_type": "code",
   "execution_count": 17,
   "metadata": {},
   "outputs": [
    {
     "data": {
      "text/plain": [
       "array([[291,   5,   0,   0],\n",
       "       [ 14,  84,   1,   0],\n",
       "       [  3,   3,  15,   0],\n",
       "       [  0,   2,   1,  13]])"
      ]
     },
     "execution_count": 17,
     "metadata": {},
     "output_type": "execute_result"
    }
   ],
   "source": [
    "from sklearn.metrics import confusion_matrix\n",
    "\n",
    "confusion_matrix(y_test, predictions)"
   ]
  },
  {
   "cell_type": "markdown",
   "metadata": {},
   "source": [
    "### 3B Confusion matrix plot\n",
    "A more convenient way to show a confusion matrix is to use the plot_confusion_matrix of scikit learn.\n",
    "- Import the confusion matrix plot module\n",
    "- Visualize the confusion matrix in two ways:\n",
    "    - Show the absolute numbers\n",
    "    - Show the relative (normalized) numbers\n",
    "- Some predicted decisions are \"higher\" than the actual decisions and some are \"lower\". Explain why that is important in making decisions about cars."
   ]
  },
  {
   "cell_type": "code",
   "execution_count": 18,
   "metadata": {},
   "outputs": [
    {
     "data": {
      "text/plain": [
       "<sklearn.metrics._plot.confusion_matrix.ConfusionMatrixDisplay at 0x7fe75540cbb0>"
      ]
     },
     "execution_count": 18,
     "metadata": {},
     "output_type": "execute_result"
    },
    {
     "data": {
      "image/png": "[encoded data removed]",
      "text/plain": [
       "<Figure size 640x480 with 2 Axes>"
      ]
     },
     "metadata": {},
     "output_type": "display_data"
    },
    {
     "data": {
      "image/png": "[encoded data removed]",
      "text/plain": [
       "<Figure size 640x480 with 2 Axes>"
      ]
     },
     "metadata": {},
     "output_type": "display_data"
    }
   ],
   "source": [
    "from sklearn.metrics import plot_confusion_matrix\n",
    "\n",
    "plot_confusion_matrix(clf, X_test, y_test,display_labels=['unacc', 'good', 'vgood', 'acc'],\n",
    "                      cmap=plt.cm.Blues, normalize=None)\n",
    "\n",
    "plot_confusion_matrix(clf, X_test, y_test,display_labels=['unacc', 'good', 'vgood', 'acc'],\n",
    "                      cmap=plt.cm.Blues, normalize='true')\n"
   ]
  },
  {
   "cell_type": "markdown",
   "metadata": {},
   "source": [
    "### 3C other metrics\n",
    "- How would you describe this dataset. To what extent is this a balanced data set?\n",
    "- Is accuracy a good metric to use here? Why or why not?\n",
    "- Show a classification report that includes class recall, class precision and f1 scores.\n",
    "- Explain what precision, recall and f1 score are using examples from the confusion matrix.\n",
    "- For some classes there is unsufficient evidence. For which classes is this the case and why?\n",
    "- Which metric is most important in the context of classifying cars and why?"
   ]
  },
  {
   "cell_type": "code",
   "execution_count": 19,
   "metadata": {},
   "outputs": [
    {
     "name": "stdout",
     "output_type": "stream",
     "text": [
      "              precision    recall  f1-score   support\n",
      "\n",
      "       unacc       0.94      0.98      0.96       296\n",
      "        good       0.89      0.85      0.87        99\n",
      "       vgood       0.88      0.71      0.79        21\n",
      "         acc       1.00      0.81      0.90        16\n",
      "\n",
      "    accuracy                           0.93       432\n",
      "   macro avg       0.93      0.84      0.88       432\n",
      "weighted avg       0.93      0.93      0.93       432\n",
      "\n"
     ]
    }
   ],
   "source": [
    "from sklearn.metrics import classification_report\n",
    "print(classification_report(y_test, predictions,\n",
    "                            target_names=['unacc', 'good', 'vgood', 'acc']))\n"
   ]
  }
 ],
 "metadata": {
  "kernelspec": {
   "display_name": "Python 3 (ipykernel)",
   "language": "python",
   "name": "python3"
  },
  "language_info": {
   "codemirror_mode": {
    "name": "ipython",
    "version": 3
   },
   "file_extension": ".py",
   "mimetype": "text/x-python",
   "name": "python",
   "nbconvert_exporter": "python",
   "pygments_lexer": "ipython3",
   "version": "3.9.13"
  }
 },
 "nbformat": 4,
 "nbformat_minor": 4
}
