{
 "cells": [
  {
   "cell_type": "markdown",
   "metadata": {},
   "source": [
    "# k-Nearest Neighbors multi-class classification"
   ]
  },
  {
   "cell_type": "markdown",
   "metadata": {},
   "source": [
    "In deze opdracht voorspel je welke beslissingen er genomen worden over auto's. Er zijn vier mogelijke beslissingen:\n",
    "\n",
    "- 'unacc': unacceptable\n",
    "- 'acc', : acceptable\n",
    "- 'good',: good\n",
    "- 'vgood': very good\n",
    "\n",
    "Omdat er 4 mogelijke beslissingen zijn, wordt dit een \"multi-class classification\" probleem genoemd. Merk hierbij op dat beslissingsopties op een \"ordinale\" schaal liggen. De \"laagste\" beslissing is \"unacceptable\" en de \"hoogste\" beslissing is \"very good\".\n",
    "\n",
    "Je maakt hierbij gebruik van 6 eigenschappen (features) van de auto's om te voorspellen welke beslissing wordt genomen.\n",
    "Deze 'features' staan in de eerste 6 kolommen van de dataset. De zevende kolom bevat de beslissing over de dataset.\n",
    "\n",
    "---\n",
    "\n",
    "In this assignment you predict which decisions will be made about cars. There are four possible decisions:\n",
    "\n",
    "- 'unacc': unacceptable\n",
    "- 'acc', : acceptable\n",
    "- 'good',: good\n",
    "- 'vgood': very good\n",
    "\n",
    "Because there are 4 possible decisions, this is called a \"multi-class classification\" problem. Note that decision options are on an \"ordinal\" scale. The \"lowest\" decision is \"unacceptable\" and the \"highest\" decision is \"very good\".\n",
    "\n",
    "You use 6 properties (features) of the cars to predict which decision will be made.\n",
    "These 'features' are in the first 6 columns of the dataset. The seventh column contains the dataset decision."
   ]
  },
  {
   "cell_type": "markdown",
   "metadata": {},
   "source": [
    "## 0 Import the dataset\n",
    "- Execute the cell below to import the dataset and necessary libraries"
   ]
  },
  {
   "cell_type": "code",
   "execution_count": 1,
   "metadata": {},
   "outputs": [
    {
     "name": "stdout",
     "output_type": "stream",
     "text": [
      "<class 'pandas.core.frame.DataFrame'>\n",
      "RangeIndex: 1728 entries, 0 to 1727\n",
      "Data columns (total 7 columns):\n",
      " #   Column  Non-Null Count  Dtype \n",
      "---  ------  --------------  ----- \n",
      " 0   0       1728 non-null   object\n",
      " 1   1       1728 non-null   object\n",
      " 2   2       1728 non-null   object\n",
      " 3   3       1728 non-null   object\n",
      " 4   4       1728 non-null   object\n",
      " 5   5       1728 non-null   object\n",
      " 6   6       1728 non-null   object\n",
      "dtypes: object(7)\n",
      "memory usage: 94.6+ KB\n"
     ]
    },
    {
     "data": {
      "text/html": [
       "<div>\n",
       "<style scoped>\n",
       "    .dataframe tbody tr th:only-of-type {\n",
       "        vertical-align: middle;\n",
       "    }\n",
       "\n",
       "    .dataframe tbody tr th {\n",
       "        vertical-align: top;\n",
       "    }\n",
       "\n",
       "    .dataframe thead th {\n",
       "        text-align: right;\n",
       "    }\n",
       "</style>\n",
       "<table border=\"1\" class=\"dataframe\">\n",
       "  <thead>\n",
       "    <tr style=\"text-align: right;\">\n",
       "      <th></th>\n",
       "      <th>0</th>\n",
       "      <th>1</th>\n",
       "      <th>2</th>\n",
       "      <th>3</th>\n",
       "      <th>4</th>\n",
       "      <th>5</th>\n",
       "      <th>6</th>\n",
       "    </tr>\n",
       "  </thead>\n",
       "  <tbody>\n",
       "    <tr>\n",
       "      <th>0</th>\n",
       "      <td>vhigh</td>\n",
       "      <td>vhigh</td>\n",
       "      <td>2</td>\n",
       "      <td>2</td>\n",
       "      <td>small</td>\n",
       "      <td>low</td>\n",
       "      <td>unacc</td>\n",
       "    </tr>\n",
       "    <tr>\n",
       "      <th>1</th>\n",
       "      <td>vhigh</td>\n",
       "      <td>vhigh</td>\n",
       "      <td>2</td>\n",
       "      <td>2</td>\n",
       "      <td>small</td>\n",
       "      <td>med</td>\n",
       "      <td>unacc</td>\n",
       "    </tr>\n",
       "    <tr>\n",
       "      <th>2</th>\n",
       "      <td>vhigh</td>\n",
       "      <td>vhigh</td>\n",
       "      <td>2</td>\n",
       "      <td>2</td>\n",
       "      <td>small</td>\n",
       "      <td>high</td>\n",
       "      <td>unacc</td>\n",
       "    </tr>\n",
       "    <tr>\n",
       "      <th>3</th>\n",
       "      <td>vhigh</td>\n",
       "      <td>vhigh</td>\n",
       "      <td>2</td>\n",
       "      <td>2</td>\n",
       "      <td>med</td>\n",
       "      <td>low</td>\n",
       "      <td>unacc</td>\n",
       "    </tr>\n",
       "    <tr>\n",
       "      <th>4</th>\n",
       "      <td>vhigh</td>\n",
       "      <td>vhigh</td>\n",
       "      <td>2</td>\n",
       "      <td>2</td>\n",
       "      <td>med</td>\n",
       "      <td>med</td>\n",
       "      <td>unacc</td>\n",
       "    </tr>\n",
       "  </tbody>\n",
       "</table>\n",
       "</div>"
      ],
      "text/plain": [
       "       0      1  2  3      4     5      6\n",
       "0  vhigh  vhigh  2  2  small   low  unacc\n",
       "1  vhigh  vhigh  2  2  small   med  unacc\n",
       "2  vhigh  vhigh  2  2  small  high  unacc\n",
       "3  vhigh  vhigh  2  2    med   low  unacc\n",
       "4  vhigh  vhigh  2  2    med   med  unacc"
      ]
     },
     "metadata": {},
     "output_type": "display_data"
    },
    {
     "data": {
      "text/plain": [
       "None"
      ]
     },
     "metadata": {},
     "output_type": "display_data"
    }
   ],
   "source": [
    "import pandas as pd\n",
    "import numpy as np\n",
    "from matplotlib import pyplot as plt\n",
    "\n",
    "df = pd.read_csv('cars.csv', header = None )\n",
    "display(df.head(), df.info())"
   ]
  },
  {
   "cell_type": "markdown",
   "metadata": {},
   "source": [
    "## 1A Pre-processing of the dataset: requirements\n",
    "- Er zijn een aantal vereisten (requirements) waaraan de data moet voldoen om er machine learning op te kunnen toepassen. Benoem, als comments, in onderstaande cel wat de vereisten zijn.\n",
    "- In hoeverre voldoet de dataset aan de vereisten?\n",
    "\n",
    "---\n",
    "- There are a number of requirements that the data must meet in order to be able to apply machine learning to it. Mention, as comments, in the cell below what the requirements are.\n",
    "- To what extent does the dataset meet the requirements?"
   ]
  },
  {
   "cell_type": "code",
   "execution_count": 2,
   "metadata": {},
   "outputs": [],
   "source": [
    "#Requirements: \n",
    "#No missing values, Data in numeric format\n",
    "#Data stored in pandas DataFrame or NumPy array\n",
    "\n",
    "#Does not meet the requirements because not all the data is numeric"
   ]
  },
  {
   "cell_type": "markdown",
   "metadata": {},
   "source": [
    "## 1B Pre-processing the dataset: understanding code\n",
    "In de onderstaande cel wordt pre-processing van de data uitgevoerd. Er staan 5 hashtags in deze cel.\n",
    "- Beschrijf bij iedere hashtag wat het resultaat is van de code eronder **en** waarom deze code is toegepast.\n",
    "\n",
    "---\n",
    "Pre-processing of the data is performed in the cell below. There are 5 hashtags in this cell.\n",
    "- Describe for each hashtag what the result of the code underneath is **and** why this code has been applied."
   ]
  },
  {
   "cell_type": "code",
   "execution_count": 3,
   "metadata": {},
   "outputs": [
    {
     "data": {
      "text/plain": [
       "'bp'"
      ]
     },
     "metadata": {},
     "output_type": "display_data"
    },
    {
     "data": {
      "text/plain": [
       "['low', 'high', 'vhigh', 'med']"
      ]
     },
     "metadata": {},
     "output_type": "display_data"
    },
    {
     "data": {
      "text/plain": [
       "'mc'"
      ]
     },
     "metadata": {},
     "output_type": "display_data"
    },
    {
     "data": {
      "text/plain": [
       "['low', 'high', 'vhigh', 'med']"
      ]
     },
     "metadata": {},
     "output_type": "display_data"
    },
    {
     "data": {
      "text/plain": [
       "'nd'"
      ]
     },
     "metadata": {},
     "output_type": "display_data"
    },
    {
     "data": {
      "text/plain": [
       "['5more', '2', '3', '4']"
      ]
     },
     "metadata": {},
     "output_type": "display_data"
    },
    {
     "data": {
      "text/plain": [
       "'np'"
      ]
     },
     "metadata": {},
     "output_type": "display_data"
    },
    {
     "data": {
      "text/plain": [
       "['2', '4', 'more']"
      ]
     },
     "metadata": {},
     "output_type": "display_data"
    },
    {
     "data": {
      "text/plain": [
       "'lb'"
      ]
     },
     "metadata": {},
     "output_type": "display_data"
    },
    {
     "data": {
      "text/plain": [
       "['small', 'big', 'med']"
      ]
     },
     "metadata": {},
     "output_type": "display_data"
    },
    {
     "data": {
      "text/plain": [
       "'sy'"
      ]
     },
     "metadata": {},
     "output_type": "display_data"
    },
    {
     "data": {
      "text/plain": [
       "['low', 'high', 'med']"
      ]
     },
     "metadata": {},
     "output_type": "display_data"
    },
    {
     "data": {
      "text/plain": [
       "'dn'"
      ]
     },
     "metadata": {},
     "output_type": "display_data"
    },
    {
     "data": {
      "text/plain": [
       "['unacc', 'good', 'vgood', 'acc']"
      ]
     },
     "metadata": {},
     "output_type": "display_data"
    },
    {
     "name": "stdout",
     "output_type": "stream",
     "text": [
      "<class 'pandas.core.frame.DataFrame'>\n",
      "RangeIndex: 1728 entries, 0 to 1727\n",
      "Data columns (total 7 columns):\n",
      " #   Column       Non-Null Count  Dtype\n",
      "---  ------       --------------  -----\n",
      " 0   buy_price    1728 non-null   int64\n",
      " 1   maint_cost   1728 non-null   int64\n",
      " 2   num_doors    1728 non-null   int64\n",
      " 3   num_persons  1728 non-null   int64\n",
      " 4   lug_boot     1728 non-null   int64\n",
      " 5   safety       1728 non-null   int64\n",
      " 6   decision     1728 non-null   int64\n",
      "dtypes: int64(7)\n",
      "memory usage: 94.6 KB\n"
     ]
    },
    {
     "data": {
      "text/plain": [
       "None"
      ]
     },
     "metadata": {},
     "output_type": "display_data"
    },
    {
     "data": {
      "text/html": [
       "<div>\n",
       "<style scoped>\n",
       "    .dataframe tbody tr th:only-of-type {\n",
       "        vertical-align: middle;\n",
       "    }\n",
       "\n",
       "    .dataframe tbody tr th {\n",
       "        vertical-align: top;\n",
       "    }\n",
       "\n",
       "    .dataframe thead th {\n",
       "        text-align: right;\n",
       "    }\n",
       "</style>\n",
       "<table border=\"1\" class=\"dataframe\">\n",
       "  <thead>\n",
       "    <tr style=\"text-align: right;\">\n",
       "      <th></th>\n",
       "      <th>buy_price</th>\n",
       "      <th>maint_cost</th>\n",
       "      <th>num_doors</th>\n",
       "      <th>num_persons</th>\n",
       "      <th>lug_boot</th>\n",
       "      <th>safety</th>\n",
       "      <th>decision</th>\n",
       "    </tr>\n",
       "  </thead>\n",
       "  <tbody>\n",
       "    <tr>\n",
       "      <th>count</th>\n",
       "      <td>1728.000000</td>\n",
       "      <td>1728.000000</td>\n",
       "      <td>1728.000000</td>\n",
       "      <td>1728.000000</td>\n",
       "      <td>1728.000000</td>\n",
       "      <td>1728.000000</td>\n",
       "      <td>1728.000000</td>\n",
       "    </tr>\n",
       "    <tr>\n",
       "      <th>mean</th>\n",
       "      <td>2.500000</td>\n",
       "      <td>2.500000</td>\n",
       "      <td>2.500000</td>\n",
       "      <td>2.000000</td>\n",
       "      <td>2.000000</td>\n",
       "      <td>2.000000</td>\n",
       "      <td>1.414931</td>\n",
       "    </tr>\n",
       "    <tr>\n",
       "      <th>std</th>\n",
       "      <td>1.118358</td>\n",
       "      <td>1.118358</td>\n",
       "      <td>1.118358</td>\n",
       "      <td>0.816733</td>\n",
       "      <td>0.816733</td>\n",
       "      <td>0.816733</td>\n",
       "      <td>0.740700</td>\n",
       "    </tr>\n",
       "    <tr>\n",
       "      <th>min</th>\n",
       "      <td>1.000000</td>\n",
       "      <td>1.000000</td>\n",
       "      <td>1.000000</td>\n",
       "      <td>1.000000</td>\n",
       "      <td>1.000000</td>\n",
       "      <td>1.000000</td>\n",
       "      <td>1.000000</td>\n",
       "    </tr>\n",
       "    <tr>\n",
       "      <th>25%</th>\n",
       "      <td>1.750000</td>\n",
       "      <td>1.750000</td>\n",
       "      <td>1.750000</td>\n",
       "      <td>1.000000</td>\n",
       "      <td>1.000000</td>\n",
       "      <td>1.000000</td>\n",
       "      <td>1.000000</td>\n",
       "    </tr>\n",
       "    <tr>\n",
       "      <th>50%</th>\n",
       "      <td>2.500000</td>\n",
       "      <td>2.500000</td>\n",
       "      <td>2.500000</td>\n",
       "      <td>2.000000</td>\n",
       "      <td>2.000000</td>\n",
       "      <td>2.000000</td>\n",
       "      <td>1.000000</td>\n",
       "    </tr>\n",
       "    <tr>\n",
       "      <th>75%</th>\n",
       "      <td>3.250000</td>\n",
       "      <td>3.250000</td>\n",
       "      <td>3.250000</td>\n",
       "      <td>3.000000</td>\n",
       "      <td>3.000000</td>\n",
       "      <td>3.000000</td>\n",
       "      <td>2.000000</td>\n",
       "    </tr>\n",
       "    <tr>\n",
       "      <th>max</th>\n",
       "      <td>4.000000</td>\n",
       "      <td>4.000000</td>\n",
       "      <td>4.000000</td>\n",
       "      <td>3.000000</td>\n",
       "      <td>3.000000</td>\n",
       "      <td>3.000000</td>\n",
       "      <td>4.000000</td>\n",
       "    </tr>\n",
       "  </tbody>\n",
       "</table>\n",
       "</div>"
      ],
      "text/plain": [
       "         buy_price   maint_cost    num_doors  num_persons     lug_boot  \\\n",
       "count  1728.000000  1728.000000  1728.000000  1728.000000  1728.000000   \n",
       "mean      2.500000     2.500000     2.500000     2.000000     2.000000   \n",
       "std       1.118358     1.118358     1.118358     0.816733     0.816733   \n",
       "min       1.000000     1.000000     1.000000     1.000000     1.000000   \n",
       "25%       1.750000     1.750000     1.750000     1.000000     1.000000   \n",
       "50%       2.500000     2.500000     2.500000     2.000000     2.000000   \n",
       "75%       3.250000     3.250000     3.250000     3.000000     3.000000   \n",
       "max       4.000000     4.000000     4.000000     3.000000     3.000000   \n",
       "\n",
       "            safety     decision  \n",
       "count  1728.000000  1728.000000  \n",
       "mean      2.000000     1.414931  \n",
       "std       0.816733     0.740700  \n",
       "min       1.000000     1.000000  \n",
       "25%       1.000000     1.000000  \n",
       "50%       2.000000     1.000000  \n",
       "75%       3.000000     2.000000  \n",
       "max       3.000000     4.000000  "
      ]
     },
     "metadata": {},
     "output_type": "display_data"
    }
   ],
   "source": [
    "#1: \n",
    "df.columns = ['buy_price','maint_cost','num_doors','num_persons','lug_boot','safety','decision']\n",
    "\n",
    "#2: \n",
    "bp = list(set(df['buy_price']))\n",
    "mc = list(set(df['maint_cost']))\n",
    "nd = list(set(df['num_doors']))\n",
    "np = list(set(df['num_persons']))\n",
    "lb = list(set(df['lug_boot']))\n",
    "sy = list(set(df['safety']))\n",
    "dn = list(set(df['decision']))\n",
    "display('bp', bp, 'mc', mc, 'nd' , nd , 'np', np, 'lb', lb, 'sy', sy, 'dn', dn)\n",
    "\n",
    "#3: \n",
    "cars = df.copy()\n",
    "\n",
    "#4:\n",
    "cars.buy_price.replace(('low', 'med', 'high', 'vhigh'),(1,2,3,4), inplace=True)\n",
    "cars.maint_cost.replace(('low', 'med', 'high', 'vhigh'),(1,2,3,4), inplace=True)\n",
    "cars.num_doors.replace(('2','3','4','5more'),(1,2,3,4), inplace=True)\n",
    "cars.num_persons.replace(('2','4','more'),(1,2,3), inplace=True)\n",
    "cars.lug_boot.replace(('small','med','big'),(1,2,3), inplace=True)\n",
    "cars.safety.replace(('low','med','high'),(1,2,3), inplace=True)\n",
    "cars.decision.replace(('unacc','acc','good','vgood'),(1,2,3,4), inplace=True)\n",
    "\n",
    "#5:\n",
    "display(cars.info(), cars.describe())"
   ]
  },
  {
   "cell_type": "markdown",
   "metadata": {},
   "source": [
    "### 1C Check the data frame\n",
    "- Bepaal of er \"missende waardes\" zijn.\n",
    "- Maak een visualisatie waarin je toont hoe de variabelen zijn verdeeld.\n",
    "- Wat valt je op aan deze verdelingen?\n",
    "- Denk je dat dat dit een echte dataset is of een kunstmatige dataset? Waarom?\n",
    "\n",
    "---\n",
    "- Determine if there are \"missing values\".\n",
    "- Make a visualization showing how the variables are distributed.\n",
    "- What do you notice about these distributions?\n",
    "- Do you think this is a real dataset or an artificial dataset? Why?"
   ]
  },
  {
   "cell_type": "code",
   "execution_count": 4,
   "metadata": {
    "scrolled": false
   },
   "outputs": [
    {
     "name": "stdout",
     "output_type": "stream",
     "text": [
      "<class 'pandas.core.frame.DataFrame'>\n",
      "RangeIndex: 1728 entries, 0 to 1727\n",
      "Data columns (total 7 columns):\n",
      " #   Column       Non-Null Count  Dtype\n",
      "---  ------       --------------  -----\n",
      " 0   buy_price    1728 non-null   int64\n",
      " 1   maint_cost   1728 non-null   int64\n",
      " 2   num_doors    1728 non-null   int64\n",
      " 3   num_persons  1728 non-null   int64\n",
      " 4   lug_boot     1728 non-null   int64\n",
      " 5   safety       1728 non-null   int64\n",
      " 6   decision     1728 non-null   int64\n",
      "dtypes: int64(7)\n",
      "memory usage: 94.6 KB\n"
     ]
    },
    {
     "data": {
      "text/plain": [
       "None"
      ]
     },
     "metadata": {},
     "output_type": "display_data"
    },
    {
     "data": {
      "image/png": "[encoded data removed]",
      "text/plain": [
       "<Figure size 640x480 with 9 Axes>"
      ]
     },
     "metadata": {},
     "output_type": "display_data"
    }
   ],
   "source": [
    "display(cars.info())\n",
    "cars.hist()\n",
    "plt.show()\n",
    "# No missing values\n",
    "\n",
    "# real/artificial? \n",
    "#Not realistic because the distributions of the features are exactly \n",
    "#equal, to good to be true."
   ]
  },
  {
   "cell_type": "markdown",
   "metadata": {},
   "source": [
    "## 2 Apply k-nearest neighbors"
   ]
  },
  {
   "cell_type": "markdown",
   "metadata": {},
   "source": [
    "### 2A Naming variables\n",
    "1. Het uiteindelijke doel is om de 'decision' kolom te voorspellen. We hanteren voor deze variabele een engelstalige naam. Wat is de naam van deze variabele?\n",
    "2. Is dit een x-variabele of y-variabele?\n",
    "3. Wiskundig wordt voor deze variabele ook een andere naam gehanteerd. Wat is de wiskundige naam van voor de \"te voorspellen\" variabele?\n",
    "4. De andere kolommen (variabelen) worden gebruikt om de 'decision' kolom te voorspellen. Hoe noemen we deze variabelen? Zijn dit x-variabelen of y-variabelen?\n",
    "5. Splits the data in x-variabelen en een y-variabele\n",
    "\n",
    "---\n",
    "\n",
    "1. The ultimate goal is to predict the 'decision' column. We use an English name for this variable. What is the name of this variable?\n",
    "2. Is this an x variable or y variable?\n",
    "3. Mathematically, this variable also has a different name. What is the mathematical name for the \"predictable\" variable?\n",
    "4. The other columns (variables) are used to predict the 'decision' column. What do we call these variables? Are these x variables or y variables?\n",
    "5. Split the data into x variables and a y variable"
   ]
  },
  {
   "cell_type": "code",
   "execution_count": 5,
   "metadata": {},
   "outputs": [],
   "source": [
    "#1 variable name: target, dependent\n",
    "#2 x or y variable: y\n",
    "#3 math name: y-hat\n",
    "#4 name of other columns: feature, predictors, indipendent , x or y variables:\n",
    "#5: below code for split into X and y:\n",
    "X = cars.drop('decision', axis = 1)\n",
    "y = cars['decision']"
   ]
  },
  {
   "cell_type": "markdown",
   "metadata": {},
   "source": [
    "### 2B Split into training data and test data.\n",
    "1. Splits de data in train-sets en test-sets. Importeer daarvoor eerst de juiste module van sklearn. Zorg ervoor dat iedere keer als deze cel wordt uitgevoerd de splitsing op dezelfde wijze plaatsvindt.\n",
    "2. Beschrijf waarom het nodig is om deze splitsing te maken.\n",
    "\n",
    "---\n",
    "1. Split the data into train sets and test sets. To do this, first import the correct module from sklearn. Make sure that every time this cell is run the split is done in the same way.\n",
    "2. Describe why it is necessary to make this split."
   ]
  },
  {
   "cell_type": "code",
   "execution_count": 6,
   "metadata": {},
   "outputs": [
    {
     "data": {
      "text/html": [
       "<div>\n",
       "<style scoped>\n",
       "    .dataframe tbody tr th:only-of-type {\n",
       "        vertical-align: middle;\n",
       "    }\n",
       "\n",
       "    .dataframe tbody tr th {\n",
       "        vertical-align: top;\n",
       "    }\n",
       "\n",
       "    .dataframe thead th {\n",
       "        text-align: right;\n",
       "    }\n",
       "</style>\n",
       "<table border=\"1\" class=\"dataframe\">\n",
       "  <thead>\n",
       "    <tr style=\"text-align: right;\">\n",
       "      <th></th>\n",
       "      <th>buy_price</th>\n",
       "      <th>maint_cost</th>\n",
       "      <th>num_doors</th>\n",
       "      <th>num_persons</th>\n",
       "      <th>lug_boot</th>\n",
       "      <th>safety</th>\n",
       "    </tr>\n",
       "  </thead>\n",
       "  <tbody>\n",
       "    <tr>\n",
       "      <th>520</th>\n",
       "      <td>3</td>\n",
       "      <td>4</td>\n",
       "      <td>4</td>\n",
       "      <td>1</td>\n",
       "      <td>3</td>\n",
       "      <td>2</td>\n",
       "    </tr>\n",
       "    <tr>\n",
       "      <th>621</th>\n",
       "      <td>3</td>\n",
       "      <td>3</td>\n",
       "      <td>4</td>\n",
       "      <td>1</td>\n",
       "      <td>1</td>\n",
       "      <td>1</td>\n",
       "    </tr>\n",
       "    <tr>\n",
       "      <th>1017</th>\n",
       "      <td>2</td>\n",
       "      <td>3</td>\n",
       "      <td>2</td>\n",
       "      <td>3</td>\n",
       "      <td>1</td>\n",
       "      <td>1</td>\n",
       "    </tr>\n",
       "    <tr>\n",
       "      <th>1273</th>\n",
       "      <td>2</td>\n",
       "      <td>1</td>\n",
       "      <td>4</td>\n",
       "      <td>1</td>\n",
       "      <td>2</td>\n",
       "      <td>2</td>\n",
       "    </tr>\n",
       "    <tr>\n",
       "      <th>924</th>\n",
       "      <td>2</td>\n",
       "      <td>4</td>\n",
       "      <td>3</td>\n",
       "      <td>1</td>\n",
       "      <td>3</td>\n",
       "      <td>1</td>\n",
       "    </tr>\n",
       "    <tr>\n",
       "      <th>...</th>\n",
       "      <td>...</td>\n",
       "      <td>...</td>\n",
       "      <td>...</td>\n",
       "      <td>...</td>\n",
       "      <td>...</td>\n",
       "      <td>...</td>\n",
       "    </tr>\n",
       "    <tr>\n",
       "      <th>835</th>\n",
       "      <td>3</td>\n",
       "      <td>1</td>\n",
       "      <td>3</td>\n",
       "      <td>3</td>\n",
       "      <td>3</td>\n",
       "      <td>2</td>\n",
       "    </tr>\n",
       "    <tr>\n",
       "      <th>1216</th>\n",
       "      <td>2</td>\n",
       "      <td>1</td>\n",
       "      <td>2</td>\n",
       "      <td>1</td>\n",
       "      <td>1</td>\n",
       "      <td>2</td>\n",
       "    </tr>\n",
       "    <tr>\n",
       "      <th>1653</th>\n",
       "      <td>1</td>\n",
       "      <td>1</td>\n",
       "      <td>2</td>\n",
       "      <td>1</td>\n",
       "      <td>3</td>\n",
       "      <td>1</td>\n",
       "    </tr>\n",
       "    <tr>\n",
       "      <th>559</th>\n",
       "      <td>3</td>\n",
       "      <td>3</td>\n",
       "      <td>1</td>\n",
       "      <td>3</td>\n",
       "      <td>1</td>\n",
       "      <td>2</td>\n",
       "    </tr>\n",
       "    <tr>\n",
       "      <th>684</th>\n",
       "      <td>3</td>\n",
       "      <td>2</td>\n",
       "      <td>2</td>\n",
       "      <td>2</td>\n",
       "      <td>1</td>\n",
       "      <td>1</td>\n",
       "    </tr>\n",
       "  </tbody>\n",
       "</table>\n",
       "<p>1296 rows × 6 columns</p>\n",
       "</div>"
      ],
      "text/plain": [
       "      buy_price  maint_cost  num_doors  num_persons  lug_boot  safety\n",
       "520           3           4          4            1         3       2\n",
       "621           3           3          4            1         1       1\n",
       "1017          2           3          2            3         1       1\n",
       "1273          2           1          4            1         2       2\n",
       "924           2           4          3            1         3       1\n",
       "...         ...         ...        ...          ...       ...     ...\n",
       "835           3           1          3            3         3       2\n",
       "1216          2           1          2            1         1       2\n",
       "1653          1           1          2            1         3       1\n",
       "559           3           3          1            3         1       2\n",
       "684           3           2          2            2         1       1\n",
       "\n",
       "[1296 rows x 6 columns]"
      ]
     },
     "execution_count": 6,
     "metadata": {},
     "output_type": "execute_result"
    }
   ],
   "source": [
    "#1\n",
    "from sklearn.model_selection import train_test_split\n",
    "X_train, X_test, y_train, y_test = train_test_split(X, y, random_state = 0)\n",
    "\n",
    "#Reason for split into train set and test set:\n",
    "# We use the training data to train the model. \n",
    "# The test data has not yet \"seen\" the model and is being used\n",
    "# to determine (test) if the model works properly.\n",
    "\n",
    "X_train"
   ]
  },
  {
   "cell_type": "markdown",
   "metadata": {},
   "source": [
    "### 2C Training and forecasting\n",
    "- Importeer de KNN classifier van sklearn.\n",
    "- Train een KNN-model met een k van 3.\n",
    "- Gebruik dit model om voorspellingen te doen voor de test set.\n",
    "- Toon de voorspellingen\n",
    "\n",
    "---\n",
    "- Import the KNN classifier from sklearn.\n",
    "- Train a KNN model with a k of 3.\n",
    "- Use this model to make predictions for the test set.\n",
    "- Show the predictions"
   ]
  },
  {
   "cell_type": "code",
   "execution_count": 7,
   "metadata": {},
   "outputs": [
    {
     "data": {
      "text/plain": [
       "array([2, 1, 1, 1, 1, 4, 1, 2, 1, 2, 1, 1, 1, 1, 1, 2, 1, 1, 1, 1, 4, 2,\n",
       "       3, 1, 1, 1, 1, 1, 1, 1, 3, 1, 1, 2, 3, 1, 1, 1, 1, 1, 2, 1, 1, 1,\n",
       "       4, 1, 1, 1, 1, 1, 1, 1, 1, 1, 1, 1, 1, 1, 1, 2, 2, 1, 1, 1, 2, 2,\n",
       "       1, 1, 1, 1, 1, 2, 2, 2, 1, 2, 1, 1, 2, 1, 2, 1, 2, 1, 1, 1, 1, 1,\n",
       "       1, 1, 1, 4, 1, 1, 1, 4, 1, 2, 2, 1, 1, 1, 2, 1, 4, 2, 1, 1, 1, 1,\n",
       "       1, 1, 1, 1, 1, 1, 1, 1, 1, 1, 1, 1, 4, 1, 1, 1, 1, 2, 3, 1, 1, 1,\n",
       "       2, 1, 1, 1, 1, 1, 2, 1, 1, 1, 1, 2, 1, 1, 1, 1, 1, 2, 1, 2, 1, 1,\n",
       "       1, 1, 1, 1, 1, 1, 3, 1, 1, 1, 1, 1, 1, 1, 1, 1, 1, 1, 1, 1, 3, 1,\n",
       "       1, 1, 1, 1, 2, 2, 2, 1, 2, 1, 1, 1, 1, 1, 1, 2, 1, 1, 1, 2, 1, 1,\n",
       "       1, 1, 1, 1, 2, 1, 1, 1, 1, 1, 1, 1, 1, 2, 1, 1, 1, 1, 1, 2, 1, 1,\n",
       "       1, 1, 1, 4, 1, 1, 1, 4, 1, 1, 1, 1, 2, 1, 2, 1, 2, 1, 1, 1, 1, 1,\n",
       "       1, 1, 1, 1, 2, 1, 1, 1, 1, 1, 1, 1, 2, 2, 1, 1, 1, 1, 1, 1, 1, 2,\n",
       "       1, 1, 2, 1, 2, 1, 1, 1, 2, 1, 2, 1, 1, 1, 2, 1, 1, 1, 2, 1, 1, 2,\n",
       "       1, 4, 3, 1, 1, 1, 1, 1, 1, 1, 1, 1, 1, 1, 1, 2, 2, 2, 3, 1, 3, 1,\n",
       "       1, 1, 3, 2, 1, 1, 2, 1, 1, 1, 1, 2, 1, 1, 2, 1, 2, 2, 1, 1, 1, 1,\n",
       "       2, 1, 1, 1, 1, 1, 1, 1, 4, 1, 1, 2, 1, 2, 1, 1, 1, 1, 1, 1, 2, 1,\n",
       "       1, 2, 1, 1, 1, 2, 1, 1, 1, 1, 1, 1, 3, 2, 2, 1, 1, 4, 1, 1, 1, 2,\n",
       "       1, 1, 1, 1, 1, 2, 3, 1, 1, 1, 1, 1, 2, 1, 1, 1, 1, 1, 1, 4, 1, 1,\n",
       "       2, 1, 1, 1, 1, 2, 1, 1, 4, 1, 1, 1, 1, 2, 1, 1, 2, 1, 1, 1, 1, 2,\n",
       "       1, 1, 1, 2, 4, 1, 1, 1, 4, 1, 1, 2, 1, 2])"
      ]
     },
     "metadata": {},
     "output_type": "display_data"
    }
   ],
   "source": [
    "import warnings\n",
    "warnings.filterwarnings(\"ignore\")\n",
    "\n",
    "from sklearn.neighbors import KNeighborsClassifier\n",
    "knn = KNeighborsClassifier(n_neighbors = 3)\n",
    "knn.fit(X_train, y_train)\n",
    "predictions = knn.predict(X_test)\n",
    "display(predictions)"
   ]
  },
  {
   "cell_type": "markdown",
   "metadata": {},
   "source": [
    "### Determine 2D accuracy\n",
    "- Maak een dataframe waarin de eerste kolom de waardes uit y_test zijn en de tweede kolom de voorspellingen zijn.\n",
    "- Voeg aan dit dataframe de kolom 'dif' toe. In deze kolom staat het verschil tussen de werkelijke waarde en de voorspelde waarde.\n",
    "- Maak een dataframe dif waarin je laat zien hoe vaak iedere waarde in de kolom 'dif' voorkomt.\n",
    "- Bepaal het aantal juiste voorspellingen en wijs dit toe aan de variabele correct.\n",
    "- Bepaal het totale aantal voorspellingen en wijs dit toe aan de variabele total.\n",
    "- Toon de \"accuracy\" van het model waarbij je gebruik maakt van correct en total.\n",
    "\n",
    "---\n",
    "- Create a dataframe in which the first column is the values from y_test and the second column is the predictions.\n",
    "- Add the 'dif' column to this data frame. This column shows the difference between the actual value and the predicted value.\n",
    "- Create a dataframe diff in which you show how often each value occurs in the column 'dif'.\n",
    "- Determine the number of correct predictions and assign it to the variable correct.\n",
    "- Determine the total number of predictions and assign it to the variable total.\n",
    "- Show the \"accuracy\" of the model using correct and total."
   ]
  },
  {
   "cell_type": "code",
   "execution_count": 16,
   "metadata": {},
   "outputs": [
    {
     "data": {
      "text/html": [
       "<div>\n",
       "<style scoped>\n",
       "    .dataframe tbody tr th:only-of-type {\n",
       "        vertical-align: middle;\n",
       "    }\n",
       "\n",
       "    .dataframe tbody tr th {\n",
       "        vertical-align: top;\n",
       "    }\n",
       "\n",
       "    .dataframe thead th {\n",
       "        text-align: right;\n",
       "    }\n",
       "</style>\n",
       "<table border=\"1\" class=\"dataframe\">\n",
       "  <thead>\n",
       "    <tr style=\"text-align: right;\">\n",
       "      <th></th>\n",
       "      <th>predictions</th>\n",
       "    </tr>\n",
       "    <tr>\n",
       "      <th>dif</th>\n",
       "      <th></th>\n",
       "    </tr>\n",
       "  </thead>\n",
       "  <tbody>\n",
       "    <tr>\n",
       "      <th>-2</th>\n",
       "      <td>1</td>\n",
       "    </tr>\n",
       "    <tr>\n",
       "      <th>-1</th>\n",
       "      <td>16</td>\n",
       "    </tr>\n",
       "    <tr>\n",
       "      <th>0</th>\n",
       "      <td>371</td>\n",
       "    </tr>\n",
       "    <tr>\n",
       "      <th>1</th>\n",
       "      <td>32</td>\n",
       "    </tr>\n",
       "    <tr>\n",
       "      <th>2</th>\n",
       "      <td>12</td>\n",
       "    </tr>\n",
       "  </tbody>\n",
       "</table>\n",
       "</div>"
      ],
      "text/plain": [
       "     predictions\n",
       "dif             \n",
       "-2             1\n",
       "-1            16\n",
       " 0           371\n",
       " 1            32\n",
       " 2            12"
      ]
     },
     "metadata": {},
     "output_type": "display_data"
    },
    {
     "data": {
      "text/plain": [
       "predictions    0.858796\n",
       "Name: 0, dtype: float64"
      ]
     },
     "execution_count": 16,
     "metadata": {},
     "output_type": "execute_result"
    }
   ],
   "source": [
    "comp = pd.DataFrame(y_test)\n",
    "comp['predictions'] = predictions\n",
    "comp['dif'] = comp['decision'] - comp['predictions']\n",
    "dif = comp.groupby('dif')[['predictions']].count()\n",
    "display(dif)\n",
    "correct = dif.loc[0]\n",
    "total = len(comp)\n",
    "accuracy = correct / total\n",
    "accuracy"
   ]
  },
  {
   "cell_type": "markdown",
   "metadata": {},
   "source": [
    "## 3 Choice of correct value of k"
   ]
  },
  {
   "cell_type": "markdown",
   "metadata": {},
   "source": [
    "### 3A Accuracy training set and test set\n",
    "- Gebruik de score-method van sklearn om de accuracy van de trainingsdata en de testdata te berekenen bij k=3.\n",
    "- Waarom is het van belang om voor zowel de testdata als de trainingsdata de accuracy score te berekenen?\n",
    "\n",
    "---\n",
    "- Use the sklearn scoring method to calculate the accuracy of the training data and the test data at k=3.\n",
    "- Why is it important to calculate the accuracy score for both the test data and the training data?"
   ]
  },
  {
   "cell_type": "code",
   "execution_count": 21,
   "metadata": {},
   "outputs": [
    {
     "name": "stdout",
     "output_type": "stream",
     "text": [
      "accuracy train set: 0.9483024691358025\n",
      "accuracy test set: 0.8587962962962963\n"
     ]
    }
   ],
   "source": [
    "import warnings\n",
    "warnings.filterwarnings(\"ignore\")\n",
    "\n",
    "knn = KNeighborsClassifier(n_neighbors = 3)\n",
    "knn.fit(X_train, y_train)\n",
    "print(\"accuracy train set:\", knn.score(X_train, y_train))\n",
    "print(\"accuracy test set:\", knn.score(X_test, y_test))\n",
    "# Reason to calculate the score of both sets: train score is much higher so there is overfitting"
   ]
  },
  {
   "cell_type": "markdown",
   "metadata": {},
   "source": [
    "### 3B Accuracies at different values of k\n",
    "- Gebruik een for-loop om de accuracies van de testdata en de traindata te bepalen bij verschillende waardes voor k. \n",
    "- Voeg de accuracies toe aan de gegeven dictionaries waarbij k de \"key\" is en de accuracy score de \"value\"\n",
    "- Bekijk de dictionaries. Welke waarde voor k lijkt het beste te zijn?\n",
    "\n",
    "---\n",
    "- Use a for-loop to determine the accuracies of the test data and the train data at different values for k.\n",
    "- Add the accuracies to the given dictionaries where k is the \"key\" and the accuracy score is the \"value\"\n",
    "- View the dictionaries. Which value for k seems to be the best?"
   ]
  },
  {
   "cell_type": "code",
   "execution_count": 22,
   "metadata": {
    "scrolled": false
   },
   "outputs": [
    {
     "data": {
      "text/plain": [
       "{1: 1.0,\n",
       " 2: 0.9344135802469136,\n",
       " 3: 0.9483024691358025,\n",
       " 4: 0.9452160493827161,\n",
       " 5: 0.9722222222222222,\n",
       " 6: 0.9645061728395061,\n",
       " 7: 0.9791666666666666,\n",
       " 8: 0.9745370370370371,\n",
       " 9: 0.9691358024691358,\n",
       " 10: 0.9652777777777778}"
      ]
     },
     "metadata": {},
     "output_type": "display_data"
    },
    {
     "data": {
      "text/plain": [
       "{1: 0.8032407407407407,\n",
       " 2: 0.8171296296296297,\n",
       " 3: 0.8587962962962963,\n",
       " 4: 0.8865740740740741,\n",
       " 5: 0.9398148148148148,\n",
       " 6: 0.9189814814814815,\n",
       " 7: 0.9328703703703703,\n",
       " 8: 0.9189814814814815,\n",
       " 9: 0.9259259259259259,\n",
       " 10: 0.8935185185185185}"
      ]
     },
     "metadata": {},
     "output_type": "display_data"
    }
   ],
   "source": [
    "import warnings\n",
    "warnings.filterwarnings(\"ignore\")\n",
    "\n",
    "train_accuracies = {}\n",
    "test_accuracies = {}\n",
    "neighbors = range(1, 11)\n",
    "for neighbor in neighbors:\n",
    "    knn = KNeighborsClassifier(n_neighbors=neighbor)\n",
    "    knn.fit(X_train, y_train)\n",
    "    train_accuracies[neighbor] = knn.score(X_train, y_train)\n",
    "    test_accuracies[neighbor] = knn.score(X_test, y_test)\n",
    "display(train_accuracies, test_accuracies)\n",
    "#k=7"
   ]
  },
  {
   "cell_type": "markdown",
   "metadata": {},
   "source": [
    "### 3C Check for overfitting\n",
    "- Gebruik de dictionaries uit 3C om een grafiek te maken met daarin de training accuracy en de testing accuracy bij de verschillende waardes van k.\n",
    "- Bij welke waardes van k is sprake van overfitting?\n",
    "- Bij welke waardes van k is sprake van underfitting?\n",
    "- Wat wordt je definitieve keuze voor k?\n",
    "\n",
    "---\n",
    "- Use the dictionaries from 3C to make a graph showing the training accuracy and the testing accuracy for the different values of k.\n",
    "- At what values of k is there overfitting?\n",
    "- At which values of k is there underfitting?\n",
    "- What will be your final choice for k?"
   ]
  },
  {
   "cell_type": "code",
   "execution_count": 23,
   "metadata": {},
   "outputs": [
    {
     "data": {
      "image/png": "[encoded data removed]",
      "text/plain": [
       "<Figure size 800x600 with 1 Axes>"
      ]
     },
     "metadata": {},
     "output_type": "display_data"
    }
   ],
   "source": [
    "plt.figure(figsize=(8, 6))\n",
    "plt.title(\"KNN: Varying Number of Neighbors\")\n",
    "plt.plot(neighbors, train_accuracies.values(), label=\"Training Accuracy\")\n",
    "plt.plot(neighbors, test_accuracies.values(), label=\"Testing Accuracy\")\n",
    "plt.legend()\n",
    "plt.xlabel(\"Number of Neighbors\")\n",
    "plt.ylabel(\"Accuracy\")\n",
    "plt.show()\n",
    "#overfitting: 1 to 4\n",
    "#underfitting: from 9\n",
    "#7"
   ]
  },
  {
   "cell_type": "code",
   "execution_count": 24,
   "metadata": {},
   "outputs": [
    {
     "name": "stdout",
     "output_type": "stream",
     "text": [
      "0.9791666666666666\n",
      "0.9328703703703703\n"
     ]
    }
   ],
   "source": [
    "knn = KNeighborsClassifier(n_neighbors = 7)\n",
    "knn.fit(X_train, y_train)\n",
    "print(knn.score(X_train, y_train))\n",
    "print(knn.score(X_test, y_test))"
   ]
  }
 ],
 "metadata": {
  "kernelspec": {
   "display_name": "Python 3 (ipykernel)",
   "language": "python",
   "name": "python3"
  },
  "language_info": {
   "codemirror_mode": {
    "name": "ipython",
    "version": 3
   },
   "file_extension": ".py",
   "mimetype": "text/x-python",
   "name": "python",
   "nbconvert_exporter": "python",
   "pygments_lexer": "ipython3",
   "version": "3.9.13"
  }
 },
 "nbformat": 4,
 "nbformat_minor": 4
}
