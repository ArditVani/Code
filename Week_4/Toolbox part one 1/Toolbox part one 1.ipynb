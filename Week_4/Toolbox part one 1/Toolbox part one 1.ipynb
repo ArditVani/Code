{
 "cells": [
  {
   "cell_type": "markdown",
   "metadata": {},
   "source": [
    "# Data Science Toolbox (Part 1): 1"
   ]
  },
  {
   "cell_type": "markdown",
   "metadata": {},
   "source": [
    "## 10.1 geen parameters\n",
    "- Definieer een functie zonder parameters die het resultaat van 10 maal 10 'returned'\n",
    "- Print de uitkomst van de functie."
   ]
  },
  {
   "cell_type": "code",
   "execution_count": 1,
   "metadata": {},
   "outputs": [
    {
     "name": "stdout",
     "output_type": "stream",
     "text": [
      "100\n"
     ]
    }
   ],
   "source": [
    "# No parameters\n",
    "# Define a function with no parameters that returns the result of 10 times 10\n",
    "# Print the result of the function\n",
    "\n",
    "def mult_10_10():\n",
    "    \"\"\"Returns the result of 10 times 10.\"\"\"\n",
    "    \n",
    "    result = 10 * 10\n",
    "    \n",
    "    return result\n",
    "\n",
    "print(mult_10_10())"
   ]
  },
  {
   "cell_type": "markdown",
   "metadata": {},
   "source": [
    "## 10.2 Eén parameter\n",
    "- Definieer een functie die het resultaat van 10 maal een parameter 'returned'\n",
    "- Print de uitkomst van de functie."
   ]
  },
  {
   "cell_type": "code",
   "execution_count": 2,
   "metadata": {},
   "outputs": [
    {
     "name": "stdout",
     "output_type": "stream",
     "text": [
      "170\n"
     ]
    }
   ],
   "source": [
    "# One parameter\n",
    "# Define a function that returns the result of 10 times a parameter\n",
    "# Print the result of the function.\n",
    "\n",
    "def mult_10(value):\n",
    "    \"\"\"Returns the result of 10 times a value.\"\"\"\n",
    "\n",
    "    result = value * 10\n",
    "    \n",
    "    return result\n",
    "\n",
    "print(mult_10(10 + 7))"
   ]
  },
  {
   "cell_type": "markdown",
   "metadata": {},
   "source": [
    "## 10.3 meerdere parameters\n",
    "- Definieer een functie die het resultaat van een parameter maal een andere parameter 'returned'\n",
    "- Print de uitkomst van de functie."
   ]
  },
  {
   "cell_type": "code",
   "execution_count": 3,
   "metadata": {},
   "outputs": [
    {
     "name": "stdout",
     "output_type": "stream",
     "text": [
      "49\n"
     ]
    }
   ],
   "source": [
    "# Multiple parameters\n",
    "# Define a function that returns the result of one parameter times another parameter\n",
    "# Print the result of the function.\n",
    "\n",
    "def mult(val1, val2):\n",
    "    \"\"\"Returns the result of one parameter times another parameter.\"\"\"\n",
    "\n",
    "    new_val = val1 * val2\n",
    "    \n",
    "    return new_val\n",
    "\n",
    "result = mult(7,7)\n",
    "\n",
    "print(result)"
   ]
  },
  {
   "cell_type": "markdown",
   "metadata": {},
   "source": [
    "## 10.3 meerdere parameters & \"returning\" meerdere waardes\n",
    "\n",
    "- Definieer een functie met twee parameters die twee resultaten returned in een tuple:\n",
    "\n",
    "    1. Een parameter vermenigvuldigd met de andere parameter  \n",
    "    2. De som van beide parameters  \n",
    "\n",
    "\n",
    "- Print de uitkomst van de functie. Kies willekeurige waardes voor iedere parameter."
   ]
  },
  {
   "cell_type": "code",
   "execution_count": 4,
   "metadata": {},
   "outputs": [
    {
     "name": "stdout",
     "output_type": "stream",
     "text": [
      "(49, 14)\n"
     ]
    }
   ],
   "source": [
    "# Multiple parameters & \"returning\" multiple values\n",
    "# Define a function with two parameters that returns two results in a tuple:\n",
    "# A parameter multiplied by the other parameter\n",
    "# The sum of both parameters\n",
    "# Print the result of the function. Choose arbitrary values for each parameter.\n",
    "\n",
    "def mult_sum(val1, val2):\n",
    "    \"\"\"Two parameters that returns the mult and sum results in a tuple.\"\"\"\n",
    "\n",
    "    return val1 * val2, val1 + val2\n",
    "\n",
    "result = mult_sum(7,7)\n",
    "\n",
    "print(result)\n"
   ]
  },
  {
   "cell_type": "markdown",
   "metadata": {},
   "source": [
    "## 10.4 Tuples\n",
    "\n",
    "De functie uit de vorige opgave 'returns' waardes in een tuple.\n",
    "\n",
    "- Pak de tuple uit in 2 verschillende variabelen.\n",
    "- Print beide variabelen."
   ]
  },
  {
   "cell_type": "code",
   "execution_count": 5,
   "metadata": {},
   "outputs": [
    {
     "name": "stdout",
     "output_type": "stream",
     "text": [
      "49 14\n"
     ]
    }
   ],
   "source": [
    "# The function from the previous exercise 'returns' values in a tuple.\n",
    "# Unpack the tuple into 2 different variables.\n",
    "# Print both variables.\n",
    "\n",
    "mult_val, sum_val = result\n",
    "print(mult_val, sum_val)"
   ]
  },
  {
   "cell_type": "markdown",
   "metadata": {},
   "source": [
    "### 10.5 Inspecteren van data\n",
    "- Voer de onderstaande cel uit om de \"uncleaned\" gegevens over winkelverkopen te importeren in het dataframe storedata.\n",
    "- De omzet van de winkel staat in de \"Turnover\" kolom"
   ]
  },
  {
   "cell_type": "code",
   "execution_count": 7,
   "metadata": {},
   "outputs": [
    {
     "data": {
      "text/html": [
       "<div>\n",
       "<style scoped>\n",
       "    .dataframe tbody tr th:only-of-type {\n",
       "        vertical-align: middle;\n",
       "    }\n",
       "\n",
       "    .dataframe tbody tr th {\n",
       "        vertical-align: top;\n",
       "    }\n",
       "\n",
       "    .dataframe thead th {\n",
       "        text-align: right;\n",
       "    }\n",
       "</style>\n",
       "<table border=\"1\" class=\"dataframe\">\n",
       "  <thead>\n",
       "    <tr style=\"text-align: right;\">\n",
       "      <th></th>\n",
       "      <th>Town</th>\n",
       "      <th>Country</th>\n",
       "      <th>Manager name</th>\n",
       "      <th>Staff</th>\n",
       "      <th>Floor Space</th>\n",
       "      <th>Window</th>\n",
       "      <th>Car park</th>\n",
       "      <th>Demographic score</th>\n",
       "      <th>Location</th>\n",
       "      <th>40min population</th>\n",
       "      <th>30 min population</th>\n",
       "      <th>20 min population</th>\n",
       "      <th>10 min population</th>\n",
       "      <th>Store age</th>\n",
       "      <th>Clearance space</th>\n",
       "      <th>Competition number</th>\n",
       "      <th>Competition score</th>\n",
       "      <th>Turnover</th>\n",
       "      <th>Performance</th>\n",
       "    </tr>\n",
       "    <tr>\n",
       "      <th>Store ID</th>\n",
       "      <th></th>\n",
       "      <th></th>\n",
       "      <th></th>\n",
       "      <th></th>\n",
       "      <th></th>\n",
       "      <th></th>\n",
       "      <th></th>\n",
       "      <th></th>\n",
       "      <th></th>\n",
       "      <th></th>\n",
       "      <th></th>\n",
       "      <th></th>\n",
       "      <th></th>\n",
       "      <th></th>\n",
       "      <th></th>\n",
       "      <th></th>\n",
       "      <th></th>\n",
       "      <th></th>\n",
       "      <th></th>\n",
       "    </tr>\n",
       "  </thead>\n",
       "  <tbody>\n",
       "    <tr>\n",
       "      <th>1437</th>\n",
       "      <td>Swinton (Greater Manchester)</td>\n",
       "      <td>UK</td>\n",
       "      <td>Roger</td>\n",
       "      <td>9</td>\n",
       "      <td>18526</td>\n",
       "      <td>121</td>\n",
       "      <td>Yes</td>\n",
       "      <td>10</td>\n",
       "      <td>Retail Park</td>\n",
       "      <td>1288374</td>\n",
       "      <td>1138224</td>\n",
       "      <td>1006986</td>\n",
       "      <td>1002340</td>\n",
       "      <td>3</td>\n",
       "      <td>238</td>\n",
       "      <td>16</td>\n",
       "      <td>16</td>\n",
       "      <td>3410865</td>\n",
       "      <td>Good</td>\n",
       "    </tr>\n",
       "    <tr>\n",
       "      <th>1544</th>\n",
       "      <td>Stamford</td>\n",
       "      <td>UK</td>\n",
       "      <td>Ella</td>\n",
       "      <td>8</td>\n",
       "      <td>18569</td>\n",
       "      <td>121</td>\n",
       "      <td>Yes</td>\n",
       "      <td>11</td>\n",
       "      <td>Shopping Centre</td>\n",
       "      <td>1086225</td>\n",
       "      <td>1015321</td>\n",
       "      <td>1012182</td>\n",
       "      <td>1008436</td>\n",
       "      <td>4</td>\n",
       "      <td>384</td>\n",
       "      <td>15</td>\n",
       "      <td>19</td>\n",
       "      <td>4034051</td>\n",
       "      <td>Excellent</td>\n",
       "    </tr>\n",
       "    <tr>\n",
       "      <th>2039</th>\n",
       "      <td>Skipton</td>\n",
       "      <td>UK</td>\n",
       "      <td>Valentina</td>\n",
       "      <td>-2</td>\n",
       "      <td>12288</td>\n",
       "      <td>105</td>\n",
       "      <td>No</td>\n",
       "      <td>12</td>\n",
       "      <td>Retail Park</td>\n",
       "      <td>1595638</td>\n",
       "      <td>1281661</td>\n",
       "      <td>1104490</td>\n",
       "      <td>1011395</td>\n",
       "      <td>11</td>\n",
       "      <td>219</td>\n",
       "      <td>13</td>\n",
       "      <td>18</td>\n",
       "      <td>2297810</td>\n",
       "      <td>Poor</td>\n",
       "    </tr>\n",
       "    <tr>\n",
       "      <th>2055</th>\n",
       "      <td>Stratton</td>\n",
       "      <td>UK</td>\n",
       "      <td>Antonia</td>\n",
       "      <td>7</td>\n",
       "      <td>17092</td>\n",
       "      <td>117</td>\n",
       "      <td>No</td>\n",
       "      <td>14</td>\n",
       "      <td>High Street</td>\n",
       "      <td>1179395</td>\n",
       "      <td>1022959</td>\n",
       "      <td>1009496</td>\n",
       "      <td>1002169</td>\n",
       "      <td>5</td>\n",
       "      <td>261</td>\n",
       "      <td>15</td>\n",
       "      <td>12</td>\n",
       "      <td>2398990</td>\n",
       "      <td>Poor</td>\n",
       "    </tr>\n",
       "    <tr>\n",
       "      <th>2141</th>\n",
       "      <td>Shepperton</td>\n",
       "      <td>UK</td>\n",
       "      <td>Gabriel</td>\n",
       "      <td>7</td>\n",
       "      <td>11307</td>\n",
       "      <td>103</td>\n",
       "      <td>No</td>\n",
       "      <td>18</td>\n",
       "      <td>Retail Park</td>\n",
       "      <td>1398558</td>\n",
       "      <td>1085170</td>\n",
       "      <td>1003137</td>\n",
       "      <td>1002513</td>\n",
       "      <td>7</td>\n",
       "      <td>200</td>\n",
       "      <td>19</td>\n",
       "      <td>13</td>\n",
       "      <td>2288235</td>\n",
       "      <td>Poor</td>\n",
       "    </tr>\n",
       "  </tbody>\n",
       "</table>\n",
       "</div>"
      ],
      "text/plain": [
       "                                   Town Country Manager name  Staff  \\\n",
       "Store ID                                                              \n",
       "1437       Swinton (Greater Manchester)      UK        Roger      9   \n",
       "1544                           Stamford      UK         Ella      8   \n",
       "2039                            Skipton      UK    Valentina     -2   \n",
       "2055                           Stratton      UK      Antonia      7   \n",
       "2141                         Shepperton      UK      Gabriel      7   \n",
       "\n",
       "          Floor Space  Window Car park  Demographic score         Location  \\\n",
       "Store ID                                                                     \n",
       "1437            18526     121      Yes                 10      Retail Park   \n",
       "1544            18569     121      Yes                 11  Shopping Centre   \n",
       "2039            12288     105       No                 12      Retail Park   \n",
       "2055            17092     117       No                 14      High Street   \n",
       "2141            11307     103       No                 18      Retail Park   \n",
       "\n",
       "          40min population  30 min population  20 min population  \\\n",
       "Store ID                                                           \n",
       "1437               1288374            1138224            1006986   \n",
       "1544               1086225            1015321            1012182   \n",
       "2039               1595638            1281661            1104490   \n",
       "2055               1179395            1022959            1009496   \n",
       "2141               1398558            1085170            1003137   \n",
       "\n",
       "          10 min population  Store age  Clearance space  Competition number  \\\n",
       "Store ID                                                                      \n",
       "1437                1002340          3              238                  16   \n",
       "1544                1008436          4              384                  15   \n",
       "2039                1011395         11              219                  13   \n",
       "2055                1002169          5              261                  15   \n",
       "2141                1002513          7              200                  19   \n",
       "\n",
       "          Competition score  Turnover Performance  \n",
       "Store ID                                           \n",
       "1437                     16   3410865        Good  \n",
       "1544                     19   4034051   Excellent  \n",
       "2039                     18   2297810        Poor  \n",
       "2055                     12   2398990        Poor  \n",
       "2141                     13   2288235        Poor  "
      ]
     },
     "execution_count": 7,
     "metadata": {},
     "output_type": "execute_result"
    }
   ],
   "source": [
    "# Inspecting Data\n",
    "# Run the cell below to import the \"uncleaned\" store sales data into the storedata \n",
    "# data frame. The store's turnover is listed in the \"Turnover\" column.\n",
    "#Importing uncleaned storedata into storedata\n",
    "\n",
    "import pandas as pd\n",
    "import numpy as np\n",
    "storedata = pd.read_csv('storedata.csv', encoding = \"ISO-8859-1\",sep=\",\",index_col=2)\n",
    "storedata.rename(columns={'Profit': 'Turnover'}, inplace=True)\n",
    "storedata.head()"
   ]
  },
  {
   "cell_type": "markdown",
   "metadata": {},
   "source": [
    "- Maak met behulp van een 'for loop' een dictionary die het aantal unieke waardes telt in de 'Staff' (= aantal medewerkers) kolom.\n",
    "\n",
    "Het verwachte resultaat is: {9: 28, 8: 18, -2: 1, 7: 29, 5: 29, 6: 29, 300: 1, 600: 1}.  \n",
    "Uit deze dictionary kun je aflezen dat er 28 winkels zijn die 9 medewerkers hebben."
   ]
  },
  {
   "cell_type": "code",
   "execution_count": 37,
   "metadata": {},
   "outputs": [
    {
     "name": "stdout",
     "output_type": "stream",
     "text": [
      "{9: 1}\n",
      "{9: 1, 8: 1}\n",
      "{9: 1, 8: 1, -2: 1}\n",
      "{9: 1, 8: 1, -2: 1, 7: 1}\n",
      "{9: 4, 8: 5, -2: 1, 7: 4, 5: 1}\n",
      "{9: 4, 8: 5, -2: 1, 7: 4, 5: 1, 6: 1}\n",
      "{9: 16, 8: 9, -2: 1, 7: 12, 5: 7, 6: 8, 300: 1}\n",
      "{9: 22, 8: 18, -2: 1, 7: 24, 5: 22, 6: 21, 300: 1, 600: 1}\n",
      "{9: 28, 8: 18, -2: 1, 7: 29, 5: 29, 6: 29, 300: 1, 600: 1}\n"
     ]
    }
   ],
   "source": [
    "# Use a 'for loop' to create a dictionary that counts the number of unique values \n",
    "# in the 'Staff' (= number of employees) column.\n",
    "# The expected result is: {9:28, 8:18, -2:1, 7:29, 5:29, 6:29, 300:1, 600:1}.\n",
    "# From this dictionary you can read that there are 28 stores that have 9 employees.\n",
    "\n",
    "col = storedata['Staff']\n",
    "count_values = {}\n",
    "\n",
    "for value in col:\n",
    "    if value in count_values:\n",
    "        count_values[value] = count_values[value] + 1\n",
    "    else:\n",
    "        count_values[value] = 1\n",
    "        print(count_values)    \n",
    "        \n",
    "print(count_values)"
   ]
  },
  {
   "cell_type": "markdown",
   "metadata": {},
   "source": [
    "- Definieer een functie waarmee je bovenstaande dictionary kunt maken voor alle kolommen in een dataframe.\n",
    "- Pas de functie toe op de \"Staff\" kolom en de \"Car park\" kolom om te testen of je functie goed werkt.\n",
    "- Welke problemen / vreemde waardes zie je in deze kolommen?"
   ]
  },
  {
   "cell_type": "code",
   "execution_count": 44,
   "metadata": {},
   "outputs": [
    {
     "name": "stdout",
     "output_type": "stream",
     "text": [
      "{9: 28, 8: 18, -2: 1, 7: 29, 5: 29, 6: 29, 300: 1, 600: 1}\n",
      "{'Yes': 94, 'No': 35, 'Y': 4, 'N': 3}\n"
     ]
    }
   ],
   "source": [
    "# Define a function that allows you to create the above dictionary for all columns \n",
    "# in a dataframe.\n",
    "# Apply the function to the \"Staff\" column and the \"Car park\" column to test if your \n",
    "# function works correctly.\n",
    "# What problems / strange values do you see in these columns?\n",
    "\n",
    "def check(df, name) :\n",
    "    col = df[name]\n",
    "    count_values = {}\n",
    "    for value in col:\n",
    "        if value in count_values:\n",
    "            count_values[value] = count_values[value] + 1\n",
    "        else:\n",
    "            count_values[value] = 1\n",
    "    return count_values\n",
    "column_values = check(storedata,'Staff')\n",
    "print(column_values)\n",
    "print(check(storedata, 'Car park'))\n",
    "\n",
    "# Staff: negatieve waarde, 300 en 600 zijn veel hoger dan de andere waardes\n",
    "# Car Park: soms 'Yes' en dan weer 'Y', dit betekent vermoedelijk hetzelfde."
   ]
  },
  {
   "cell_type": "markdown",
   "metadata": {},
   "source": [
    "## 10.6 Corrigeren van de data\n",
    "In een eerdere les heb je geleerd hoe je kunt 'loopen' over een dataframe.\n",
    "\n",
    "- Maak gebruik van een loop om de waardes in de 'Staff' kolom aan te passen:\n",
    "    - Alle negatieve waardes worden positief gemaakt\n",
    "    - Alle getallen die groter dan of gelijk aan 100 zijn worden gedeeld door 100\n",
    "- Voer je functie nogmaals uit om te controleren of de kolom juist is aangepast."
   ]
  },
  {
   "cell_type": "markdown",
   "metadata": {},
   "source": [
    "- Maak gebruik van een loop om de waardes in de 'Car park' kolom aan te passen:\n",
    "    - 'Y' wordt 'Yes'\n",
    "    - 'N' wordt 'No'\n",
    "- Voer je functie nogmaals uit om te controleren of de kolom juist is aangepast."
   ]
  },
  {
   "cell_type": "code",
   "execution_count": 47,
   "metadata": {},
   "outputs": [
    {
     "name": "stdout",
     "output_type": "stream",
     "text": [
      "{9.0: 28, 8.0: 18, 2.0: 1, 7.0: 29, 5.0: 29, 6.0: 30, 3.0: 1}\n"
     ]
    }
   ],
   "source": [
    "# Correcting the data\n",
    "# In an earlier lesson you learned how to loop over a data frame.\n",
    "# Use a loop to adjust the values in the 'Staff' column:\n",
    "# All negative values are made positive\n",
    "# All numbers greater than or equal to 100 are divided by 100\n",
    "# Run your function again to verify that the column is properly adjusted.\n",
    "\n",
    "staff = storedata['Staff']\n",
    "new = []\n",
    "for v in staff:\n",
    "    if v < 0:\n",
    "        v = abs(v) # transforms -2 in + 2 +++++++ it can be done also: v = v * -1\n",
    "    if v > 100:\n",
    "        v = v / 100\n",
    "    new.append(v)\n",
    "\n",
    "storedata['Staff'] = new\n",
    "column_values = check(storedata, 'Staff')\n",
    "print(column_values)"
   ]
  },
  {
   "cell_type": "code",
   "execution_count": 57,
   "metadata": {},
   "outputs": [
    {
     "data": {
      "text/plain": [
       "[9.0,\n",
       " 8.0,\n",
       " 2.0,\n",
       " 7.0,\n",
       " 7.0,\n",
       " 7.0,\n",
       " 8.0,\n",
       " 9.0,\n",
       " 9.0,\n",
       " 7.0,\n",
       " 9.0,\n",
       " 8.0,\n",
       " 8.0,\n",
       " 8.0,\n",
       " 5.0,\n",
       " 6.0,\n",
       " 8.0,\n",
       " 6.0,\n",
       " 9.0,\n",
       " 9.0,\n",
       " 6.0,\n",
       " 7.0,\n",
       " 7.0,\n",
       " 6.0,\n",
       " 9.0,\n",
       " 5.0,\n",
       " 7.0,\n",
       " 6.0,\n",
       " 5.0,\n",
       " 9.0,\n",
       " 6.0,\n",
       " 7.0,\n",
       " 6.0,\n",
       " 8.0,\n",
       " 8.0,\n",
       " 9.0,\n",
       " 9.0,\n",
       " 7.0,\n",
       " 6.0,\n",
       " 5.0,\n",
       " 9.0,\n",
       " 9.0,\n",
       " 7.0,\n",
       " 8.0,\n",
       " 9.0,\n",
       " 9.0,\n",
       " 5.0,\n",
       " 5.0,\n",
       " 5.0,\n",
       " 7.0,\n",
       " 9.0,\n",
       " 9.0,\n",
       " 7.0,\n",
       " 3.0,\n",
       " 5.0,\n",
       " 8.0,\n",
       " 7.0,\n",
       " 7.0,\n",
       " 6.0,\n",
       " 7.0,\n",
       " 5.0,\n",
       " 7.0,\n",
       " 5.0,\n",
       " 6.0,\n",
       " 6.0,\n",
       " 8.0,\n",
       " 5.0,\n",
       " 8.0,\n",
       " 6.0,\n",
       " 7.0,\n",
       " 6.0,\n",
       " 5.0,\n",
       " 9.0,\n",
       " 5.0,\n",
       " 9.0,\n",
       " 5.0,\n",
       " 7.0,\n",
       " 5.0,\n",
       " 7.0,\n",
       " 8.0,\n",
       " 8.0,\n",
       " 5.0,\n",
       " 6.0,\n",
       " 5.0,\n",
       " 6.0,\n",
       " 6.0,\n",
       " 5.0,\n",
       " 8.0,\n",
       " 7.0,\n",
       " 9.0,\n",
       " 6.0,\n",
       " 7.0,\n",
       " 8.0,\n",
       " 7.0,\n",
       " 6.0,\n",
       " 9.0,\n",
       " 8.0,\n",
       " 5.0,\n",
       " 5.0,\n",
       " 5.0,\n",
       " 9.0,\n",
       " 8.0,\n",
       " 6.0,\n",
       " 6.0,\n",
       " 6.0,\n",
       " 5.0,\n",
       " 7.0,\n",
       " 9.0,\n",
       " 7.0,\n",
       " 6.0,\n",
       " 9.0,\n",
       " 5.0,\n",
       " 5.0,\n",
       " 9.0,\n",
       " 7.0,\n",
       " 5.0,\n",
       " 6.0,\n",
       " 5.0,\n",
       " 6.0,\n",
       " 6.0,\n",
       " 5.0,\n",
       " 9.0,\n",
       " 6.0,\n",
       " 5.0,\n",
       " 6.0,\n",
       " 7.0,\n",
       " 7.0,\n",
       " 6.0,\n",
       " 9.0,\n",
       " 9.0,\n",
       " 5.0,\n",
       " 7.0,\n",
       " 6.0,\n",
       " 7.0,\n",
       " 6.0,\n",
       " 9.0]"
      ]
     },
     "execution_count": 57,
     "metadata": {},
     "output_type": "execute_result"
    }
   ],
   "source": [
    "new = []\n",
    "for v in storedata['Staff']:\n",
    "    if v < 0:\n",
    "        v = v + -1\n",
    "    new.append(v)\n",
    "new\n",
    "\n",
    "# new_1 = [abs(v) for v in storedata['Staff']] \n",
    "# the same as above but shorter!!!!!!\n",
    "# new_1"
   ]
  },
  {
   "cell_type": "code",
   "execution_count": 20,
   "metadata": {},
   "outputs": [
    {
     "name": "stdout",
     "output_type": "stream",
     "text": [
      "{'Yes': 98, 'No': 38}\n"
     ]
    }
   ],
   "source": [
    "# Use a loop to adjust the values in the 'Car park' column:\n",
    "# 'Y' becomes 'Yes'\n",
    "# 'N' becomes 'No'\n",
    "# Run your function again to verify that the column is properly adjusted.\n",
    "\n",
    "cp = storedata['Car park']\n",
    "new = []\n",
    "\n",
    "for v in cp:\n",
    "    if v == 'Y' :\n",
    "        v = 'Yes'\n",
    "    if v == 'N' :\n",
    "        v = 'No'\n",
    "    new.append(v)\n",
    "storedata['Car park'] = new\n",
    "column_values = check(storedata,'Car park')\n",
    "print(column_values)"
   ]
  }
 ],
 "metadata": {
  "kernelspec": {
   "display_name": "Python 3 (ipykernel)",
   "language": "python",
   "name": "python3"
  },
  "language_info": {
   "codemirror_mode": {
    "name": "ipython",
    "version": 3
   },
   "file_extension": ".py",
   "mimetype": "text/x-python",
   "name": "python",
   "nbconvert_exporter": "python",
   "pygments_lexer": "ipython3",
   "version": "3.9.13"
  }
 },
 "nbformat": 4,
 "nbformat_minor": 2
}
