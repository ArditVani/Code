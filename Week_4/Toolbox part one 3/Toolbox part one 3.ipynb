{
 "cells": [
  {
   "cell_type": "markdown",
   "metadata": {},
   "source": [
    "# Python toolbox part one 3\n",
    "- Lambda functies\n",
    "- foutafhandeling"
   ]
  },
  {
   "cell_type": "markdown",
   "metadata": {},
   "source": [
    "## 12.1 Lambda basis\n",
    "\n",
    "- De functie in onderstaande cel vermenigvuldigt de x parameter met de y parameter.\n",
    "- Maak een Lambda functie die hetzelfde doet.\n",
    "- Print het resultaat van de lambda functie"
   ]
  },
  {
   "cell_type": "code",
   "execution_count": 1,
   "metadata": {},
   "outputs": [
    {
     "name": "stdout",
     "output_type": "stream",
     "text": [
      "15\n"
     ]
    }
   ],
   "source": [
    "def mult(x,y):\n",
    "    result = x * y\n",
    "    return result\n",
    "example = mult(3,5)\n",
    "print(example)"
   ]
  },
  {
   "cell_type": "markdown",
   "metadata": {},
   "source": [
    "## 12.2 Map() en lambda\n",
    "- De GBP/EUR wisselkoers is 1.2\n",
    "- gbp_amounts is een list met daarin bedragen in GBP (Britse Ponden)\n",
    "- Maak een list waarin je de GBP bedragen omrekent naar EUR waarbij je gebruik maakt van map() en lambda."
   ]
  },
  {
   "cell_type": "code",
   "execution_count": 2,
   "metadata": {},
   "outputs": [],
   "source": [
    "gbp_eur = 1.2\n",
    "gbp_amounts = [25, 50, 75, 100, 125]"
   ]
  },
  {
   "cell_type": "markdown",
   "metadata": {},
   "source": [
    "## 12.3 Filter() en lambda \n",
    "- Print een list met daarin alleen de even nummers uit gbp_amounts. Maak darvoor gebruik van filter() en een lambda functie. \n",
    "- Hint: pas de modulo operator toe om te bepalen of het een even getal is."
   ]
  },
  {
   "cell_type": "code",
   "execution_count": 3,
   "metadata": {},
   "outputs": [],
   "source": [
    "gbp_amounts = [25, 50, 75, 100, 125]"
   ]
  },
  {
   "cell_type": "markdown",
   "metadata": {},
   "source": [
    "## 12.4 Reduce() en lambda functies\n",
    "- Print de totale som van de bedragen in gbp_amounts. Maak hierbij gebruik van reduce() en een lambda functie."
   ]
  },
  {
   "cell_type": "code",
   "execution_count": 4,
   "metadata": {},
   "outputs": [],
   "source": [
    "from functools import reduce\n",
    "gbp_amounts = [25, 50, 75, 100, 125]"
   ]
  },
  {
   "cell_type": "markdown",
   "metadata": {},
   "source": [
    "## 12.5 Foutmeldingen\n",
    "- Voer onderstaande cel uit om het storedata dataframe aan te maken."
   ]
  },
  {
   "cell_type": "code",
   "execution_count": 5,
   "metadata": {},
   "outputs": [
    {
     "name": "stdout",
     "output_type": "stream",
     "text": [
      "['Town', 'Country', 'Manager name', 'Staff', 'Floor Space', 'Window', 'Car park', 'Demographic score', 'Location', '40min population', '30 min population', '20 min population', '10 min population', 'Store age', 'Clearance space', 'Competition number', 'Competition score', 'Turnover', 'Performance']\n"
     ]
    }
   ],
   "source": [
    "#Importing uncleaned storedata into storedata\n",
    "import pandas as pd\n",
    "import numpy as np\n",
    "storedata = pd.read_csv('storedata.csv', encoding = \"ISO-8859-1\",sep=\",\",index_col=2)\n",
    "storedata.rename(columns={'Profit': 'Turnover'}, inplace=True)\n",
    "\n",
    "print(list(storedata.columns))"
   ]
  },
  {
   "cell_type": "markdown",
   "metadata": {},
   "source": [
    "### 12.5.1 Try en except\n",
    "In onderstaande cel vind je weer de functie waarmee je het aantal unieke waardes in een kolom telt.\n",
    "- Voeg 'try & excecpt' foutafhandeling toe, waarbij de volgende melding wordt geprint als de kolomnaam niet bestaat:\n",
    "\n",
    "\n",
    "Only use column names: ['Town', 'Country', 'Manager name', 'Staff', 'Floor Space', 'Window', 'Car park', 'Demographic score', 'Location', '40min population', '30 min population', '20 min population', '10 min population', 'Store age', 'Clearance space', 'Competition number', 'Competition score', 'Turnover', 'Performance']\n",
    "\n",
    "Hint: in bovenstaande cel vind je hoe je de kolomnamen kunt bepalen.\n"
   ]
  },
  {
   "cell_type": "code",
   "execution_count": 6,
   "metadata": {},
   "outputs": [
    {
     "name": "stdout",
     "output_type": "stream",
     "text": [
      "{9: 28, 8: 18, -2: 1, 7: 29, 5: 29, 6: 29, 300: 1, 600: 1}\n"
     ]
    }
   ],
   "source": [
    "def check(df,name) :\n",
    "    col = df[name]\n",
    "    count_values = {}\n",
    "    for value in col:\n",
    "        if value in count_values:\n",
    "            count_values[value] = count_values[value] + 1\n",
    "        else:\n",
    "            count_values[value] = 1\n",
    "    return count_values\n",
    "\n",
    "print(check(storedata,'Staff')) "
   ]
  },
  {
   "cell_type": "markdown",
   "metadata": {},
   "source": [
    "### 12.5.2 Raising an error\n",
    "\n",
    "- Pas de functie opnieuw aan. Wek nu een \"value error\" op (raise an error) als de de gekozen kolomnaam niet bestaat. Zorg ervoor dat de volgende tekst wordt getoond:\n",
    "\n",
    "Only use column names: ['Town', 'Country', 'Manager name', 'Staff', 'Floor Space', 'Window', 'Car park', 'Demographic score', 'Location', '40min population', '30 min population', '20 min population', '10 min population', 'Store age', 'Clearance space', 'Competition number', 'Competition score', 'Turnover', 'Performance']"
   ]
  },
  {
   "cell_type": "code",
   "execution_count": null,
   "metadata": {},
   "outputs": [],
   "source": []
  },
  {
   "cell_type": "markdown",
   "metadata": {},
   "source": [
    "## 12.6 Integratie\n",
    "\n",
    "- Gebruik filter(lambda) om een list met omzetten uit storedata['Turnover'] te filteren met daarin alleen de bedragen die groter zijn dan 3000000.\n",
    "- Print de list en het aantal elementen in de list"
   ]
  },
  {
   "cell_type": "code",
   "execution_count": null,
   "metadata": {},
   "outputs": [],
   "source": []
  },
  {
   "cell_type": "code",
   "execution_count": null,
   "metadata": {},
   "outputs": [],
   "source": []
  }
 ],
 "metadata": {
  "kernelspec": {
   "display_name": "Python 3 (ipykernel)",
   "language": "python",
   "name": "python3"
  },
  "language_info": {
   "codemirror_mode": {
    "name": "ipython",
    "version": 3
   },
   "file_extension": ".py",
   "mimetype": "text/x-python",
   "name": "python",
   "nbconvert_exporter": "python",
   "pygments_lexer": "ipython3",
   "version": "3.9.13"
  }
 },
 "nbformat": 4,
 "nbformat_minor": 2
}
