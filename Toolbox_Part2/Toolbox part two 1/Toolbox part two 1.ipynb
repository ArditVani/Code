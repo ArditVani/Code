{
 "cells": [
  {
   "cell_type": "markdown",
   "metadata": {
    "slideshow": {
     "slide_type": "-"
    }
   },
   "source": [
    "# Iterators\n",
    "- Voer onderstaande cel uit om de fl_sp list aan te maken."
   ]
  },
  {
   "cell_type": "code",
   "execution_count": 1,
   "metadata": {
    "slideshow": {
     "slide_type": "-"
    }
   },
   "outputs": [],
   "source": [
    "fl_sp = [['swinton', 18526], ['stamford', 18569], ['skipton', 12288], ['stratton', 17092], ['shepperton', 11307]]"
   ]
  },
  {
   "cell_type": "markdown",
   "metadata": {},
   "source": [
    "## 13.1 For loop\n",
    "- Print de 5 lists in de fl_sp list met een for loop."
   ]
  },
  {
   "cell_type": "code",
   "execution_count": 2,
   "metadata": {
    "slideshow": {
     "slide_type": "slide"
    }
   },
   "outputs": [
    {
     "name": "stdout",
     "output_type": "stream",
     "text": [
      "['swinton', 18526]\n",
      "['stamford', 18569]\n",
      "['skipton', 12288]\n",
      "['stratton', 17092]\n",
      "['shepperton', 11307]\n"
     ]
    }
   ],
   "source": [
    "for lists in fl_sp:\n",
    "    print(lists)"
   ]
  },
  {
   "cell_type": "markdown",
   "metadata": {},
   "source": [
    "## 13.2 iter() & next()\n",
    "- Maak de iterator iter_fl_sp van fl_sp\n",
    "- print de 5 lists in de iterator door het toepassen van de next() functie.\n",
    "- Wat gebeurt er als je next() meer dan 5 keer uitvoert?\n",
    "---\n",
    "- Create the iterator iter_fl_sp from fl_sp\n",
    "- print the 5 lists in the iterator by applying the next() function.\n",
    "- What happens if you run next() more than 5 times?"
   ]
  },
  {
   "cell_type": "code",
   "execution_count": 3,
   "metadata": {},
   "outputs": [
    {
     "data": {
      "text/plain": [
       "['shepperton', 11307]"
      ]
     },
     "execution_count": 3,
     "metadata": {},
     "output_type": "execute_result"
    }
   ],
   "source": [
    "iter_fl_sp = fl_sp\n",
    "it = iter(iter_fl_sp)\n",
    "next(it) # ['swinton', 18526]\n",
    "next(it) # ['stamford', 18569]\n",
    "next(it) # ['skipton', 12288]\n",
    "next(it) # ['stratton', 17092]\n",
    "next(it) # ['shepperton', 11307]\n",
    "\n",
    "# if you run next() more than 5 times the iteration stops \n",
    "# and you get an error because there is nothing to iterate. "
   ]
  },
  {
   "cell_type": "markdown",
   "metadata": {},
   "source": [
    "## 13.3 sum() & range()\n",
    "- Print de de som van de getallen 3 tot en met 7 waarbij je de sum() en range() functie toepast.\n",
    "Hint: Je hebt hiervoor maar 1 regel code nodig en het resultaat is 25.\n",
    "---\n",
    "- Print the sum of the numbers 3 to 7 using the sum() and range() function.\n",
    "Hint: You only need 1 line of code for this and the result is 25."
   ]
  },
  {
   "cell_type": "code",
   "execution_count": 4,
   "metadata": {},
   "outputs": [
    {
     "name": "stdout",
     "output_type": "stream",
     "text": [
      "25\n"
     ]
    }
   ],
   "source": [
    "print(sum(range(3,8)))"
   ]
  },
  {
   "cell_type": "markdown",
   "metadata": {},
   "source": [
    "- Maakt de range() function een normale list?\n",
    "- Wat voor object wordt aangemaakt door de range() functie?\n",
    "- Wat is het voordeel hiervan?\n",
    "---\n",
    "- Does the range() function create a normal list?\n",
    "- What kind of object is created by the range() function?\n",
    "- What is the benefit of this?"
   ]
  },
  {
   "cell_type": "code",
   "execution_count": 5,
   "metadata": {},
   "outputs": [
    {
     "name": "stdout",
     "output_type": "stream",
     "text": [
      "<class 'range'>\n",
      "25\n"
     ]
    }
   ],
   "source": [
    "r = range(3,8)\n",
    "print(type(r))\n",
    "print(sum(r))"
   ]
  },
  {
   "cell_type": "markdown",
   "metadata": {},
   "source": [
    "## 13.4 Geindexeerde lists\n",
    "- Gebruik town om de list town_ind te maken met daarin 5 tuples met een indexnummer en de plaatsnaam. De index start bij 10.\n",
    "- Loop over loop over town_ind om de index nummers en de plaatsnamen te printen.\n",
    "---\n",
    "- Use town to create the list town_ind containing 5 tuples with an index number and the city name. The index starts at 10.\n",
    "- Loop over loop over town_ind to print index numbers and town names."
   ]
  },
  {
   "cell_type": "code",
   "execution_count": 6,
   "metadata": {},
   "outputs": [
    {
     "name": "stdout",
     "output_type": "stream",
     "text": [
      "10 swinton\n",
      "11 stamford\n",
      "12 skipton\n",
      "13 stratton\n",
      "14 shepperton\n"
     ]
    }
   ],
   "source": [
    "town = ['swinton', 'stamford', 'skipton', 'stratton', 'shepperton']\n",
    "town_ind = enumerate(town, start=10)\n",
    "\n",
    "for index, value in town_ind:\n",
    "    print(index, value)"
   ]
  },
  {
   "cell_type": "markdown",
   "metadata": {},
   "source": [
    "## 13.5 Zip\n",
    "- Print een gezipte list fl_sp die bestaat uit tuples met daarin de plaatsnamen uit town en de winkeloppervlaktes uit floor.\n",
    "---\n",
    "- Print a zipped list fl_sp consisting of tuples containing the place names from town and the retail areas from floor."
   ]
  },
  {
   "cell_type": "code",
   "execution_count": 7,
   "metadata": {},
   "outputs": [
    {
     "data": {
      "text/plain": [
       "[('swinton', 18526),\n",
       " ('stamford', 18569),\n",
       " ('skipton', 12288),\n",
       " ('stratton', 17092),\n",
       " ('shepperton', 11307)]"
      ]
     },
     "execution_count": 7,
     "metadata": {},
     "output_type": "execute_result"
    }
   ],
   "source": [
    "town = ['swinton', 'stamford', 'skipton', 'stratton', 'shepperton']\n",
    "floor = [18526, 18569 , 12288 , 17092, 11307]\n",
    "\n",
    "fl_sp = list(zip(town, floor))\n",
    "fl_sp"
   ]
  },
  {
   "cell_type": "markdown",
   "metadata": {},
   "source": [
    "## 13.6 loop & zip\n",
    "- Gebruik een for loop om over fl_sp om het volgende af te drukken:\n",
    "    - de oppervlakte van de winkel in {town} is {floor}.\n",
    "---\n",
    "- Use a for loop to over fl_sp to print:\n",
    "     - the area of the store in {town} is {floor}."
   ]
  },
  {
   "cell_type": "code",
   "execution_count": 8,
   "metadata": {
    "scrolled": true
   },
   "outputs": [
    {
     "name": "stdout",
     "output_type": "stream",
     "text": [
      "The area of the swinton is 18526\n",
      "The area of the stamford is 18569\n",
      "The area of the skipton is 12288\n",
      "The area of the stratton is 17092\n",
      "The area of the shepperton is 11307\n"
     ]
    }
   ],
   "source": [
    "fl_sp = list(zip(town,floor))\n",
    "\n",
    "for value1, value2 in fl_sp:\n",
    "    print(f'The area of the {value1} is {value2}')"
   ]
  },
  {
   "cell_type": "markdown",
   "metadata": {},
   "source": [
    "- Waarom is het beter om niet eerst een list aan te maken?\n",
    "- Pas de for loop van hierboven aan waarbij je geen list gebruikt.\n",
    "---\n",
    "- Why is it better not to create a list first?\n",
    "- Modify the for loop from above where you don't use a list."
   ]
  },
  {
   "cell_type": "code",
   "execution_count": 9,
   "metadata": {},
   "outputs": [
    {
     "name": "stdout",
     "output_type": "stream",
     "text": [
      "The area of the swinton is 18526\n",
      "The area of the stamford is 18569\n",
      "The area of the skipton is 12288\n",
      "The area of the stratton is 17092\n",
      "The area of the shepperton is 11307\n"
     ]
    }
   ],
   "source": [
    "fl_sp_zip = zip(town,floor)\n",
    "for value1, value2 in fl_sp_zip:\n",
    "    print(f'The area of the {value1} is {value2}')"
   ]
  },
  {
   "cell_type": "markdown",
   "metadata": {},
   "source": [
    "- Print de tuples in fl_sp met het * symbool (unpack).\n",
    "---\n",
    "- Print the tuples in fl_sp with the * symbol (unpack)."
   ]
  },
  {
   "cell_type": "code",
   "execution_count": 10,
   "metadata": {},
   "outputs": [
    {
     "name": "stdout",
     "output_type": "stream",
     "text": [
      "('swinton', 18526) ('stamford', 18569) ('skipton', 12288) ('stratton', 17092) ('shepperton', 11307)\n"
     ]
    }
   ],
   "source": [
    "print(*fl_sp)"
   ]
  },
  {
   "cell_type": "markdown",
   "metadata": {},
   "source": [
    "## 13.7 Unzipping\n",
    "- Pak sw uit in twee variabelen: r1 en r2.\n",
    "- Print r1 en r2\n",
    "---\n",
    "- Unpack sw into two variables: r1 and r2.\n",
    "- Print r1 and r2"
   ]
  },
  {
   "cell_type": "code",
   "execution_count": 11,
   "metadata": {},
   "outputs": [
    {
     "name": "stdout",
     "output_type": "stream",
     "text": [
      "swinton 18526\n"
     ]
    }
   ],
   "source": [
    "sw = ('swinton', 18526)\n",
    "r1, r2 = sw\n",
    "print(r1, r2)"
   ]
  },
  {
   "cell_type": "markdown",
   "metadata": {},
   "source": [
    "- Gebruik zip() en het * symbool om fl_sp uit te pakken in results1 en results2. Result 1 bevat de plaatsnamen en result 2 bevat de oppervlaktes.\n",
    "- Wat is het verschil tussen town en result 1?\n",
    "---\n",
    "- Use zip() and the * symbol to extract fl_sp in results1 and results2. Result 1 contains the place names and result 2 contains the areas.\n",
    "- What is the difference between town and result 1?"
   ]
  },
  {
   "cell_type": "code",
   "execution_count": 16,
   "metadata": {},
   "outputs": [
    {
     "name": "stdout",
     "output_type": "stream",
     "text": [
      "<zip object at 0x7f9bda1c84c0> \n",
      "\n",
      "[('swinton', 'stamford', 'skipton', 'stratton', 'shepperton'), (18526, 18569, 12288, 17092, 11307)] \n",
      "\n",
      "('swinton', 'stamford', 'skipton', 'stratton', 'shepperton') \n",
      "\n",
      "(18526, 18569, 12288, 17092, 11307) \n",
      "\n",
      "False \n",
      "\n",
      "False \n",
      "\n",
      "True\n"
     ]
    }
   ],
   "source": [
    "results = zip(*fl_sp)\n",
    "print(results,'\\n')\n",
    "results_list = list(zip(*fl_sp))\n",
    "print(results_list,'\\n')\n",
    "result1, result2 = results\n",
    "print(result1,'\\n')\n",
    "print(result2,'\\n')\n",
    "print(result1==town,'\\n')\n",
    "print(result2==floor,'\\n')\n",
    "print(list(result1)==town)\n",
    "\n",
    "# town is a list and result1 is a tuple"
   ]
  },
  {
   "cell_type": "markdown",
   "metadata": {},
   "source": [
    "## 13.8 Chunking\n",
    "In de volgende cel vind je een functie met 2 parameters:\n",
    "- Met de csv parameter kun je een csv bestand selecteren.\n",
    "- Met de name parameter kun je de kolomnaam selecteren.\n",
    "\n",
    "De functie telt het aantal unieke waardes in de geselecteerde kolom.\n",
    "\n",
    "---\n",
    "In the next cell you will find a function with 2 parameters:\n",
    "- With the csv parameter you can select a csv file.\n",
    "- With the name parameter you can select the column name.\n",
    "\n",
    "The function counts the number of unique values in the selected column."
   ]
  },
  {
   "cell_type": "code",
   "execution_count": 17,
   "metadata": {},
   "outputs": [
    {
     "name": "stdout",
     "output_type": "stream",
     "text": [
      "{9: 28, 8: 18, -2: 1, 7: 29, 5: 29, 6: 29, 300: 1, 600: 1}\n"
     ]
    }
   ],
   "source": [
    "import pandas as pd\n",
    "def check(csv,name) :\n",
    "    df = pd.read_csv(csv,encoding = \"ISO-8859-1\")\n",
    "    count_values = {}\n",
    "    for value in df[name]:\n",
    "        if value in count_values.keys() :\n",
    "            count_values[value] = count_values[value] + 1\n",
    "        else:\n",
    "            count_values[value] = 1\n",
    "    return count_values\n",
    "column_values = check('storedata.csv','Staff')\n",
    "print(column_values)"
   ]
  },
  {
   "cell_type": "markdown",
   "metadata": {},
   "source": [
    "- Kopieer de inhoud van bovenstaande cel naar onderstaande cel.\n",
    "- Verander de functie zodanig dat je de chunksize als parameter kunt kiezen.\n",
    "- Print het resultaat van de 'Staff' column als je het 'storedata.csv' bestand gebruikt. Pas chunksize=10 toe.\n",
    "---\n",
    "- Copy the contents of the cell above to the cell below.\n",
    "- Change the function so that you can choose chunksize as parameter.\n",
    "- Print the result of the 'Staff' column if you use the 'storedata.csv' file. Apply chunksize=10."
   ]
  },
  {
   "cell_type": "code",
   "execution_count": 18,
   "metadata": {},
   "outputs": [
    {
     "name": "stdout",
     "output_type": "stream",
     "text": [
      "{9: 28, 8: 18, -2: 1, 7: 29, 5: 29, 6: 29, 300: 1, 600: 1}\n"
     ]
    }
   ],
   "source": [
    "import pandas as pd\n",
    "def check(csv,name,c_size) :\n",
    "    col = pd.read_csv(csv, chunksize=c_size, encoding = \"ISO-8859-1\")\n",
    "    count_values = {}\n",
    "    for chunk in col:\n",
    "        for value in chunk[name]:\n",
    "            if value in count_values.keys() :\n",
    "                count_values[value] = count_values[value] + 1\n",
    "            else:\n",
    "                count_values[value] = 1\n",
    "    return count_values\n",
    "column_values = check('storedata.csv','Staff', 10)\n",
    "print(column_values)"
   ]
  }
 ],
 "metadata": {
  "kernelspec": {
   "display_name": "Python 3 (ipykernel)",
   "language": "python",
   "name": "python3"
  },
  "language_info": {
   "codemirror_mode": {
    "name": "ipython",
    "version": 3
   },
   "file_extension": ".py",
   "mimetype": "text/x-python",
   "name": "python",
   "nbconvert_exporter": "python",
   "pygments_lexer": "ipython3",
   "version": "3.9.13"
  }
 },
 "nbformat": 4,
 "nbformat_minor": 2
}
